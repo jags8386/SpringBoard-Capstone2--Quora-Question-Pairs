{
 "cells": [
  {
   "cell_type": "code",
   "execution_count": 52,
   "metadata": {},
   "outputs": [],
   "source": [
    "import pandas as pd\n",
    "import re\n",
    "import numpy as np\n",
    "\n",
    "import os\n",
    "import re\n",
    "import csv\n",
    "import codecs\n",
    "import numpy as np\n",
    "import pandas as pd"
   ]
  },
  {
   "cell_type": "code",
   "execution_count": 53,
   "metadata": {},
   "outputs": [],
   "source": [
    "df = pd.read_csv(\"../data/processed/clean_data.csv\")\n",
    "\n",
    "df = df.sample(frac=0.4).reset_index(drop=True)"
   ]
  },
  {
   "cell_type": "code",
   "execution_count": 54,
   "metadata": {},
   "outputs": [
    {
     "data": {
      "text/html": [
       "<div>\n",
       "<style scoped>\n",
       "    .dataframe tbody tr th:only-of-type {\n",
       "        vertical-align: middle;\n",
       "    }\n",
       "\n",
       "    .dataframe tbody tr th {\n",
       "        vertical-align: top;\n",
       "    }\n",
       "\n",
       "    .dataframe thead th {\n",
       "        text-align: right;\n",
       "    }\n",
       "</style>\n",
       "<table border=\"1\" class=\"dataframe\">\n",
       "  <thead>\n",
       "    <tr style=\"text-align: right;\">\n",
       "      <th></th>\n",
       "      <th>id</th>\n",
       "      <th>qid1</th>\n",
       "      <th>qid2</th>\n",
       "      <th>question1</th>\n",
       "      <th>question2</th>\n",
       "      <th>is_duplicate</th>\n",
       "      <th>unigram_ques1</th>\n",
       "      <th>unigram_ques2</th>\n",
       "      <th>freq_qid1</th>\n",
       "      <th>freq_qid2</th>\n",
       "      <th>q1len</th>\n",
       "      <th>q2len</th>\n",
       "      <th>q1_n_words</th>\n",
       "      <th>q2_n_words</th>\n",
       "      <th>word_share</th>\n",
       "      <th>common_word_ratio</th>\n",
       "      <th>words</th>\n",
       "    </tr>\n",
       "  </thead>\n",
       "  <tbody>\n",
       "    <tr>\n",
       "      <th>0</th>\n",
       "      <td>124269</td>\n",
       "      <td>200710</td>\n",
       "      <td>200711</td>\n",
       "      <td>what are the legal and ethical issues related ...</td>\n",
       "      <td>what are the politically divisive issues in yo...</td>\n",
       "      <td>0</td>\n",
       "      <td>['issues', 'boytting', 'legal', 'goods', 'untr...</td>\n",
       "      <td>['level', 'issues', 'would', 'bizarre', 'peopl...</td>\n",
       "      <td>1</td>\n",
       "      <td>1</td>\n",
       "      <td>83</td>\n",
       "      <td>142</td>\n",
       "      <td>15</td>\n",
       "      <td>25</td>\n",
       "      <td>2</td>\n",
       "      <td>0.125</td>\n",
       "      <td>['level', 'issues', 'would', 'bizarre', 'boytt...</td>\n",
       "    </tr>\n",
       "    <tr>\n",
       "      <th>1</th>\n",
       "      <td>227472</td>\n",
       "      <td>336330</td>\n",
       "      <td>336331</td>\n",
       "      <td>how can we remove democracy from india</td>\n",
       "      <td>what was the biggest blunder made by the vajpa...</td>\n",
       "      <td>0</td>\n",
       "      <td>['india', 'remove', 'democracy']</td>\n",
       "      <td>['blunder', 'made', 'biggest', 'government', '...</td>\n",
       "      <td>1</td>\n",
       "      <td>1</td>\n",
       "      <td>39</td>\n",
       "      <td>61</td>\n",
       "      <td>8</td>\n",
       "      <td>11</td>\n",
       "      <td>0</td>\n",
       "      <td>0.000</td>\n",
       "      <td>['remove', 'made', 'india', 'vajpayee', 'bigge...</td>\n",
       "    </tr>\n",
       "    <tr>\n",
       "      <th>2</th>\n",
       "      <td>15911</td>\n",
       "      <td>30359</td>\n",
       "      <td>30360</td>\n",
       "      <td>is watching fox news addictive</td>\n",
       "      <td>is watching fox news bad for you</td>\n",
       "      <td>0</td>\n",
       "      <td>['fox', 'news', 'addictive', 'watching']</td>\n",
       "      <td>['fox', 'news', 'bad', 'watching']</td>\n",
       "      <td>1</td>\n",
       "      <td>1</td>\n",
       "      <td>31</td>\n",
       "      <td>33</td>\n",
       "      <td>6</td>\n",
       "      <td>8</td>\n",
       "      <td>3</td>\n",
       "      <td>0.600</td>\n",
       "      <td>['bad', 'watching', 'news', 'addictive', 'fox']</td>\n",
       "    </tr>\n",
       "    <tr>\n",
       "      <th>3</th>\n",
       "      <td>326085</td>\n",
       "      <td>2764</td>\n",
       "      <td>94408</td>\n",
       "      <td>why did arnab goswami quitted from times now</td>\n",
       "      <td>why did arnab goswami resigned</td>\n",
       "      <td>1</td>\n",
       "      <td>['goswami', 'arnab', 'quitted', 'times']</td>\n",
       "      <td>['resigned', 'goswami', 'arnab']</td>\n",
       "      <td>10</td>\n",
       "      <td>7</td>\n",
       "      <td>45</td>\n",
       "      <td>31</td>\n",
       "      <td>9</td>\n",
       "      <td>6</td>\n",
       "      <td>2</td>\n",
       "      <td>0.400</td>\n",
       "      <td>['goswami', 'arnab', 'quitted', 'times', 'resi...</td>\n",
       "    </tr>\n",
       "    <tr>\n",
       "      <th>4</th>\n",
       "      <td>237728</td>\n",
       "      <td>348947</td>\n",
       "      <td>292641</td>\n",
       "      <td>what should i do if my best friend is dating m...</td>\n",
       "      <td>what do i do if my best friend is dating my cr...</td>\n",
       "      <td>1</td>\n",
       "      <td>['crush', 'friend', 'dating', 'best']</td>\n",
       "      <td>['crush', 'friend', 'dating', 'best']</td>\n",
       "      <td>2</td>\n",
       "      <td>1</td>\n",
       "      <td>54</td>\n",
       "      <td>50</td>\n",
       "      <td>13</td>\n",
       "      <td>13</td>\n",
       "      <td>4</td>\n",
       "      <td>1.000</td>\n",
       "      <td>['dating', 'friend', 'crush', 'best']</td>\n",
       "    </tr>\n",
       "  </tbody>\n",
       "</table>\n",
       "</div>"
      ],
      "text/plain": [
       "       id    qid1    qid2                                          question1  \\\n",
       "0  124269  200710  200711  what are the legal and ethical issues related ...   \n",
       "1  227472  336330  336331            how can we remove democracy from india    \n",
       "2   15911   30359   30360                    is watching fox news addictive    \n",
       "3  326085    2764   94408      why did arnab goswami quitted from times now    \n",
       "4  237728  348947  292641  what should i do if my best friend is dating m...   \n",
       "\n",
       "                                           question2  is_duplicate  \\\n",
       "0  what are the politically divisive issues in yo...             0   \n",
       "1  what was the biggest blunder made by the vajpa...             0   \n",
       "2                  is watching fox news bad for you              0   \n",
       "3                    why did arnab goswami resigned              1   \n",
       "4  what do i do if my best friend is dating my cr...             1   \n",
       "\n",
       "                                       unigram_ques1  \\\n",
       "0  ['issues', 'boytting', 'legal', 'goods', 'untr...   \n",
       "1                   ['india', 'remove', 'democracy']   \n",
       "2           ['fox', 'news', 'addictive', 'watching']   \n",
       "3           ['goswami', 'arnab', 'quitted', 'times']   \n",
       "4              ['crush', 'friend', 'dating', 'best']   \n",
       "\n",
       "                                       unigram_ques2  freq_qid1  freq_qid2  \\\n",
       "0  ['level', 'issues', 'would', 'bizarre', 'peopl...          1          1   \n",
       "1  ['blunder', 'made', 'biggest', 'government', '...          1          1   \n",
       "2                 ['fox', 'news', 'bad', 'watching']          1          1   \n",
       "3                   ['resigned', 'goswami', 'arnab']         10          7   \n",
       "4              ['crush', 'friend', 'dating', 'best']          2          1   \n",
       "\n",
       "   q1len  q2len  q1_n_words  q2_n_words  word_share  common_word_ratio  \\\n",
       "0     83    142          15          25           2              0.125   \n",
       "1     39     61           8          11           0              0.000   \n",
       "2     31     33           6           8           3              0.600   \n",
       "3     45     31           9           6           2              0.400   \n",
       "4     54     50          13          13           4              1.000   \n",
       "\n",
       "                                               words  \n",
       "0  ['level', 'issues', 'would', 'bizarre', 'boytt...  \n",
       "1  ['remove', 'made', 'india', 'vajpayee', 'bigge...  \n",
       "2    ['bad', 'watching', 'news', 'addictive', 'fox']  \n",
       "3  ['goswami', 'arnab', 'quitted', 'times', 'resi...  \n",
       "4              ['dating', 'friend', 'crush', 'best']  "
      ]
     },
     "execution_count": 54,
     "metadata": {},
     "output_type": "execute_result"
    }
   ],
   "source": [
    "df.head()"
   ]
  },
  {
   "cell_type": "code",
   "execution_count": 55,
   "metadata": {},
   "outputs": [],
   "source": [
    "import nltk\n",
    "from nltk import word_tokenize, ngrams\n",
    "from nltk.corpus import stopwords\n",
    "from nltk.stem import PorterStemmer\n",
    "from nltk.stem import SnowballStemmer\n",
    "snow=nltk.stem.SnowballStemmer('english')\n",
    "\n",
    "stop_words = set(stopwords.words('english'))\n",
    "ps = PorterStemmer()"
   ]
  },
  {
   "cell_type": "code",
   "execution_count": 56,
   "metadata": {},
   "outputs": [],
   "source": [
    "def removeStopWord(word):\n",
    "  token=word.split(\" \")   ## coverting string to token (list of word) \\\\ like [\"this\",\"is\",\"token\"]\n",
    "  removestop=[snow.stem(x) for x in token if x not in stop_words]   ##removing stopwords and also doing Stemming\n",
    "  removed=\" \".join(removestop)  ##joing back the list into sentence\n",
    "  return removed"
   ]
  },
  {
   "cell_type": "code",
   "execution_count": 57,
   "metadata": {},
   "outputs": [],
   "source": [
    "df['cleanQ1']=df['question1'].apply(removeStopWord)\n",
    "df['cleanQ2']=df['question2'].apply(removeStopWord)"
   ]
  },
  {
   "cell_type": "code",
   "execution_count": 58,
   "metadata": {},
   "outputs": [
    {
     "data": {
      "text/html": [
       "<div>\n",
       "<style scoped>\n",
       "    .dataframe tbody tr th:only-of-type {\n",
       "        vertical-align: middle;\n",
       "    }\n",
       "\n",
       "    .dataframe tbody tr th {\n",
       "        vertical-align: top;\n",
       "    }\n",
       "\n",
       "    .dataframe thead th {\n",
       "        text-align: right;\n",
       "    }\n",
       "</style>\n",
       "<table border=\"1\" class=\"dataframe\">\n",
       "  <thead>\n",
       "    <tr style=\"text-align: right;\">\n",
       "      <th></th>\n",
       "      <th>id</th>\n",
       "      <th>qid1</th>\n",
       "      <th>qid2</th>\n",
       "      <th>question1</th>\n",
       "      <th>question2</th>\n",
       "      <th>is_duplicate</th>\n",
       "      <th>unigram_ques1</th>\n",
       "      <th>unigram_ques2</th>\n",
       "      <th>freq_qid1</th>\n",
       "      <th>freq_qid2</th>\n",
       "      <th>q1len</th>\n",
       "      <th>q2len</th>\n",
       "      <th>q1_n_words</th>\n",
       "      <th>q2_n_words</th>\n",
       "      <th>word_share</th>\n",
       "      <th>common_word_ratio</th>\n",
       "      <th>words</th>\n",
       "      <th>cleanQ1</th>\n",
       "      <th>cleanQ2</th>\n",
       "    </tr>\n",
       "  </thead>\n",
       "  <tbody>\n",
       "    <tr>\n",
       "      <th>0</th>\n",
       "      <td>124269</td>\n",
       "      <td>200710</td>\n",
       "      <td>200711</td>\n",
       "      <td>what are the legal and ethical issues related ...</td>\n",
       "      <td>what are the politically divisive issues in yo...</td>\n",
       "      <td>0</td>\n",
       "      <td>['issues', 'boytting', 'legal', 'goods', 'untr...</td>\n",
       "      <td>['level', 'issues', 'would', 'bizarre', 'peopl...</td>\n",
       "      <td>1</td>\n",
       "      <td>1</td>\n",
       "      <td>83</td>\n",
       "      <td>142</td>\n",
       "      <td>15</td>\n",
       "      <td>25</td>\n",
       "      <td>2</td>\n",
       "      <td>0.125</td>\n",
       "      <td>['level', 'issues', 'would', 'bizarre', 'boytt...</td>\n",
       "      <td>legal ethic issu relat boyt good untri</td>\n",
       "      <td>polit divis issu untri would bizarr peopl untr...</td>\n",
       "    </tr>\n",
       "    <tr>\n",
       "      <th>1</th>\n",
       "      <td>227472</td>\n",
       "      <td>336330</td>\n",
       "      <td>336331</td>\n",
       "      <td>how can we remove democracy from india</td>\n",
       "      <td>what was the biggest blunder made by the vajpa...</td>\n",
       "      <td>0</td>\n",
       "      <td>['india', 'remove', 'democracy']</td>\n",
       "      <td>['blunder', 'made', 'biggest', 'government', '...</td>\n",
       "      <td>1</td>\n",
       "      <td>1</td>\n",
       "      <td>39</td>\n",
       "      <td>61</td>\n",
       "      <td>8</td>\n",
       "      <td>11</td>\n",
       "      <td>0</td>\n",
       "      <td>0.000</td>\n",
       "      <td>['remove', 'made', 'india', 'vajpayee', 'bigge...</td>\n",
       "      <td>remov democraci india</td>\n",
       "      <td>biggest blunder made vajpaye govern</td>\n",
       "    </tr>\n",
       "    <tr>\n",
       "      <th>2</th>\n",
       "      <td>15911</td>\n",
       "      <td>30359</td>\n",
       "      <td>30360</td>\n",
       "      <td>is watching fox news addictive</td>\n",
       "      <td>is watching fox news bad for you</td>\n",
       "      <td>0</td>\n",
       "      <td>['fox', 'news', 'addictive', 'watching']</td>\n",
       "      <td>['fox', 'news', 'bad', 'watching']</td>\n",
       "      <td>1</td>\n",
       "      <td>1</td>\n",
       "      <td>31</td>\n",
       "      <td>33</td>\n",
       "      <td>6</td>\n",
       "      <td>8</td>\n",
       "      <td>3</td>\n",
       "      <td>0.600</td>\n",
       "      <td>['bad', 'watching', 'news', 'addictive', 'fox']</td>\n",
       "      <td>watch fox news addict</td>\n",
       "      <td>watch fox news bad</td>\n",
       "    </tr>\n",
       "    <tr>\n",
       "      <th>3</th>\n",
       "      <td>326085</td>\n",
       "      <td>2764</td>\n",
       "      <td>94408</td>\n",
       "      <td>why did arnab goswami quitted from times now</td>\n",
       "      <td>why did arnab goswami resigned</td>\n",
       "      <td>1</td>\n",
       "      <td>['goswami', 'arnab', 'quitted', 'times']</td>\n",
       "      <td>['resigned', 'goswami', 'arnab']</td>\n",
       "      <td>10</td>\n",
       "      <td>7</td>\n",
       "      <td>45</td>\n",
       "      <td>31</td>\n",
       "      <td>9</td>\n",
       "      <td>6</td>\n",
       "      <td>2</td>\n",
       "      <td>0.400</td>\n",
       "      <td>['goswami', 'arnab', 'quitted', 'times', 'resi...</td>\n",
       "      <td>arnab goswami quit time</td>\n",
       "      <td>arnab goswami resign</td>\n",
       "    </tr>\n",
       "    <tr>\n",
       "      <th>4</th>\n",
       "      <td>237728</td>\n",
       "      <td>348947</td>\n",
       "      <td>292641</td>\n",
       "      <td>what should i do if my best friend is dating m...</td>\n",
       "      <td>what do i do if my best friend is dating my cr...</td>\n",
       "      <td>1</td>\n",
       "      <td>['crush', 'friend', 'dating', 'best']</td>\n",
       "      <td>['crush', 'friend', 'dating', 'best']</td>\n",
       "      <td>2</td>\n",
       "      <td>1</td>\n",
       "      <td>54</td>\n",
       "      <td>50</td>\n",
       "      <td>13</td>\n",
       "      <td>13</td>\n",
       "      <td>4</td>\n",
       "      <td>1.000</td>\n",
       "      <td>['dating', 'friend', 'crush', 'best']</td>\n",
       "      <td>best friend date crush</td>\n",
       "      <td>best friend date crush</td>\n",
       "    </tr>\n",
       "  </tbody>\n",
       "</table>\n",
       "</div>"
      ],
      "text/plain": [
       "       id    qid1    qid2                                          question1  \\\n",
       "0  124269  200710  200711  what are the legal and ethical issues related ...   \n",
       "1  227472  336330  336331            how can we remove democracy from india    \n",
       "2   15911   30359   30360                    is watching fox news addictive    \n",
       "3  326085    2764   94408      why did arnab goswami quitted from times now    \n",
       "4  237728  348947  292641  what should i do if my best friend is dating m...   \n",
       "\n",
       "                                           question2  is_duplicate  \\\n",
       "0  what are the politically divisive issues in yo...             0   \n",
       "1  what was the biggest blunder made by the vajpa...             0   \n",
       "2                  is watching fox news bad for you              0   \n",
       "3                    why did arnab goswami resigned              1   \n",
       "4  what do i do if my best friend is dating my cr...             1   \n",
       "\n",
       "                                       unigram_ques1  \\\n",
       "0  ['issues', 'boytting', 'legal', 'goods', 'untr...   \n",
       "1                   ['india', 'remove', 'democracy']   \n",
       "2           ['fox', 'news', 'addictive', 'watching']   \n",
       "3           ['goswami', 'arnab', 'quitted', 'times']   \n",
       "4              ['crush', 'friend', 'dating', 'best']   \n",
       "\n",
       "                                       unigram_ques2  freq_qid1  freq_qid2  \\\n",
       "0  ['level', 'issues', 'would', 'bizarre', 'peopl...          1          1   \n",
       "1  ['blunder', 'made', 'biggest', 'government', '...          1          1   \n",
       "2                 ['fox', 'news', 'bad', 'watching']          1          1   \n",
       "3                   ['resigned', 'goswami', 'arnab']         10          7   \n",
       "4              ['crush', 'friend', 'dating', 'best']          2          1   \n",
       "\n",
       "   q1len  q2len  q1_n_words  q2_n_words  word_share  common_word_ratio  \\\n",
       "0     83    142          15          25           2              0.125   \n",
       "1     39     61           8          11           0              0.000   \n",
       "2     31     33           6           8           3              0.600   \n",
       "3     45     31           9           6           2              0.400   \n",
       "4     54     50          13          13           4              1.000   \n",
       "\n",
       "                                               words  \\\n",
       "0  ['level', 'issues', 'would', 'bizarre', 'boytt...   \n",
       "1  ['remove', 'made', 'india', 'vajpayee', 'bigge...   \n",
       "2    ['bad', 'watching', 'news', 'addictive', 'fox']   \n",
       "3  ['goswami', 'arnab', 'quitted', 'times', 'resi...   \n",
       "4              ['dating', 'friend', 'crush', 'best']   \n",
       "\n",
       "                                   cleanQ1  \\\n",
       "0  legal ethic issu relat boyt good untri    \n",
       "1                   remov democraci india    \n",
       "2                   watch fox news addict    \n",
       "3                 arnab goswami quit time    \n",
       "4                  best friend date crush    \n",
       "\n",
       "                                             cleanQ2  \n",
       "0  polit divis issu untri would bizarr peopl untr...  \n",
       "1               biggest blunder made vajpaye govern   \n",
       "2                                watch fox news bad   \n",
       "3                              arnab goswami resign   \n",
       "4                            best friend date crush   "
      ]
     },
     "execution_count": 58,
     "metadata": {},
     "output_type": "execute_result"
    }
   ],
   "source": [
    "df.head()"
   ]
  },
  {
   "cell_type": "code",
   "execution_count": 59,
   "metadata": {},
   "outputs": [
    {
     "name": "stdout",
     "output_type": "stream",
     "text": [
      "95\n"
     ]
    }
   ],
   "source": [
    "from fuzzywuzzy import fuzz\n",
    "Str1 = \"Apple Inc.\"\n",
    "Str2 = \"apple Inc\"\n",
    "Ratio = fuzz.ratio(Str1.lower(),Str2.lower())\n",
    "print(Ratio)"
   ]
  },
  {
   "cell_type": "code",
   "execution_count": 60,
   "metadata": {},
   "outputs": [],
   "source": [
    "df['fuzz_ratio'] = df.apply(lambda x : fuzz.ratio(x['cleanQ1'],x['cleanQ2']), axis=1)\n",
    "df['Partial_Ratio']=df.apply(lambda x: fuzz.partial_ratio(x['cleanQ1'],x['cleanQ2']) ,axis=1)\n",
    "df['Token_Sort_Ratio']=df.apply(lambda x: fuzz.token_sort_ratio(x['cleanQ1'],x['cleanQ2']) ,axis=1)\n",
    "\n",
    "df['Token_Set_Ratio']=df.apply(lambda x: fuzz.token_set_ratio(x['cleanQ1'],x['cleanQ2']) ,axis=1)"
   ]
  },
  {
   "cell_type": "code",
   "execution_count": null,
   "metadata": {},
   "outputs": [],
   "source": []
  },
  {
   "cell_type": "code",
   "execution_count": null,
   "metadata": {},
   "outputs": [],
   "source": []
  },
  {
   "cell_type": "code",
   "execution_count": null,
   "metadata": {},
   "outputs": [],
   "source": []
  },
  {
   "cell_type": "code",
   "execution_count": null,
   "metadata": {},
   "outputs": [],
   "source": []
  },
  {
   "cell_type": "code",
   "execution_count": 61,
   "metadata": {},
   "outputs": [
    {
     "data": {
      "text/plain": [
       "(161582, 23)"
      ]
     },
     "execution_count": 61,
     "metadata": {},
     "output_type": "execute_result"
    }
   ],
   "source": [
    "df.shape"
   ]
  },
  {
   "cell_type": "code",
   "execution_count": 62,
   "metadata": {},
   "outputs": [],
   "source": [
    "features = ['freq_qid1', 'freq_qid1', 'common_word_ratio', 'fuzz_ratio']"
   ]
  },
  {
   "cell_type": "code",
   "execution_count": 63,
   "metadata": {},
   "outputs": [],
   "source": [
    "import matplotlib.pyplot as plt\n",
    "import seaborn as sns"
   ]
  },
  {
   "cell_type": "code",
   "execution_count": 64,
   "metadata": {},
   "outputs": [
    {
     "data": {
      "text/plain": [
       "Text(0.5, 1.0, 'Distribution of Fuzz Ratio')"
      ]
     },
     "execution_count": 64,
     "metadata": {},
     "output_type": "execute_result"
    },
    {
     "data": {
      "image/png": "[encoded data removed]",
      "text/plain": [
       "<Figure size 1080x720 with 1 Axes>"
      ]
     },
     "metadata": {
      "needs_background": "light"
     },
     "output_type": "display_data"
    }
   ],
   "source": [
    "plt.subplots(figsize = (15,10))\n",
    "sns.distplot(df[df.is_duplicate == 0].fuzz_ratio, kde=True, hist=False, label = 'Not Duplicate')\n",
    "sns.distplot(df[df.is_duplicate ==1].fuzz_ratio, kde = True, hist=False, label = 'Duplicate')\n",
    "plt.title('Distribution of Fuzz Ratio', size = 20)"
   ]
  },
  {
   "cell_type": "code",
   "execution_count": 65,
   "metadata": {},
   "outputs": [
    {
     "data": {
      "text/plain": [
       "Text(0.5, 1.0, 'Distribution of Partial Fuzz Ratio')"
      ]
     },
     "execution_count": 65,
     "metadata": {},
     "output_type": "execute_result"
    },
    {
     "data": {
      "image/png": "[encoded data removed]",
      "text/plain": [
       "<Figure size 1080x720 with 1 Axes>"
      ]
     },
     "metadata": {
      "needs_background": "light"
     },
     "output_type": "display_data"
    }
   ],
   "source": [
    "plt.subplots(figsize = (15,10))\n",
    "sns.distplot(df[df.is_duplicate == 0].Partial_Ratio, kde=True, hist=False, label = 'Not Duplicate')\n",
    "sns.distplot(df[df.is_duplicate ==1].Partial_Ratio, kde = True, hist=False, label = 'Duplicate')\n",
    "plt.title('Distribution of Partial Fuzz Ratio', size = 20)"
   ]
  },
  {
   "cell_type": "code",
   "execution_count": 66,
   "metadata": {},
   "outputs": [
    {
     "data": {
      "text/plain": [
       "Text(0.5, 1.0, 'Distribution of Word Share')"
      ]
     },
     "execution_count": 66,
     "metadata": {},
     "output_type": "execute_result"
    },
    {
     "data": {
      "image/png": "[encoded data removed]",
      "text/plain": [
       "<Figure size 1080x720 with 1 Axes>"
      ]
     },
     "metadata": {
      "needs_background": "light"
     },
     "output_type": "display_data"
    }
   ],
   "source": [
    "plt.subplots(figsize = (15,10))\n",
    "sns.distplot(df[df.is_duplicate == 0].common_word_ratio, kde=False, hist=True, label = 'Not Duplicate')\n",
    "sns.distplot(df[df.is_duplicate ==1].common_word_ratio, kde = False, hist=True, label = 'Duplicate')\n",
    "plt.title('Distribution of Word Share', size = 20)"
   ]
  },
  {
   "cell_type": "code",
   "execution_count": 67,
   "metadata": {},
   "outputs": [
    {
     "data": {
      "text/plain": [
       "Index(['id', 'qid1', 'qid2', 'question1', 'question2', 'is_duplicate',\n",
       "       'unigram_ques1', 'unigram_ques2', 'freq_qid1', 'freq_qid2', 'q1len',\n",
       "       'q2len', 'q1_n_words', 'q2_n_words', 'word_share', 'common_word_ratio',\n",
       "       'words', 'cleanQ1', 'cleanQ2', 'fuzz_ratio', 'Partial_Ratio',\n",
       "       'Token_Sort_Ratio', 'Token_Set_Ratio'],\n",
       "      dtype='object')"
      ]
     },
     "execution_count": 67,
     "metadata": {},
     "output_type": "execute_result"
    }
   ],
   "source": [
    "df.columns"
   ]
  },
  {
   "cell_type": "code",
   "execution_count": 73,
   "metadata": {},
   "outputs": [],
   "source": [
    "df = df[['id', 'is_duplicate', 'common_word_ratio', 'fuzz_ratio', 'Partial_Ratio', 'Token_Sort_Ratio', \n",
    "         'Token_Set_Ratio', 'cleanQ1', 'cleanQ2']]"
   ]
  },
  {
   "cell_type": "code",
   "execution_count": 74,
   "metadata": {},
   "outputs": [
    {
     "data": {
      "text/html": [
       "<div>\n",
       "<style scoped>\n",
       "    .dataframe tbody tr th:only-of-type {\n",
       "        vertical-align: middle;\n",
       "    }\n",
       "\n",
       "    .dataframe tbody tr th {\n",
       "        vertical-align: top;\n",
       "    }\n",
       "\n",
       "    .dataframe thead th {\n",
       "        text-align: right;\n",
       "    }\n",
       "</style>\n",
       "<table border=\"1\" class=\"dataframe\">\n",
       "  <thead>\n",
       "    <tr style=\"text-align: right;\">\n",
       "      <th></th>\n",
       "      <th>id</th>\n",
       "      <th>is_duplicate</th>\n",
       "      <th>common_word_ratio</th>\n",
       "      <th>fuzz_ratio</th>\n",
       "      <th>Partial_Ratio</th>\n",
       "      <th>Token_Sort_Ratio</th>\n",
       "      <th>Token_Set_Ratio</th>\n",
       "      <th>cleanQ1</th>\n",
       "      <th>cleanQ2</th>\n",
       "    </tr>\n",
       "  </thead>\n",
       "  <tbody>\n",
       "    <tr>\n",
       "      <th>0</th>\n",
       "      <td>124269</td>\n",
       "      <td>0</td>\n",
       "      <td>0.125</td>\n",
       "      <td>28</td>\n",
       "      <td>38</td>\n",
       "      <td>43</td>\n",
       "      <td>46</td>\n",
       "      <td>legal ethic issu relat boyt good untri</td>\n",
       "      <td>polit divis issu untri would bizarr peopl untr...</td>\n",
       "    </tr>\n",
       "    <tr>\n",
       "      <th>1</th>\n",
       "      <td>227472</td>\n",
       "      <td>0</td>\n",
       "      <td>0.000</td>\n",
       "      <td>17</td>\n",
       "      <td>26</td>\n",
       "      <td>21</td>\n",
       "      <td>21</td>\n",
       "      <td>remov democraci india</td>\n",
       "      <td>biggest blunder made vajpaye govern</td>\n",
       "    </tr>\n",
       "    <tr>\n",
       "      <th>2</th>\n",
       "      <td>15911</td>\n",
       "      <td>0</td>\n",
       "      <td>0.600</td>\n",
       "      <td>88</td>\n",
       "      <td>89</td>\n",
       "      <td>87</td>\n",
       "      <td>88</td>\n",
       "      <td>watch fox news addict</td>\n",
       "      <td>watch fox news bad</td>\n",
       "    </tr>\n",
       "    <tr>\n",
       "      <th>3</th>\n",
       "      <td>326085</td>\n",
       "      <td>1</td>\n",
       "      <td>0.400</td>\n",
       "      <td>71</td>\n",
       "      <td>76</td>\n",
       "      <td>70</td>\n",
       "      <td>79</td>\n",
       "      <td>arnab goswami quit time</td>\n",
       "      <td>arnab goswami resign</td>\n",
       "    </tr>\n",
       "    <tr>\n",
       "      <th>4</th>\n",
       "      <td>237728</td>\n",
       "      <td>1</td>\n",
       "      <td>1.000</td>\n",
       "      <td>100</td>\n",
       "      <td>100</td>\n",
       "      <td>100</td>\n",
       "      <td>100</td>\n",
       "      <td>best friend date crush</td>\n",
       "      <td>best friend date crush</td>\n",
       "    </tr>\n",
       "  </tbody>\n",
       "</table>\n",
       "</div>"
      ],
      "text/plain": [
       "       id  is_duplicate  common_word_ratio  fuzz_ratio  Partial_Ratio  \\\n",
       "0  124269             0              0.125          28             38   \n",
       "1  227472             0              0.000          17             26   \n",
       "2   15911             0              0.600          88             89   \n",
       "3  326085             1              0.400          71             76   \n",
       "4  237728             1              1.000         100            100   \n",
       "\n",
       "   Token_Sort_Ratio  Token_Set_Ratio                                  cleanQ1  \\\n",
       "0                43               46  legal ethic issu relat boyt good untri    \n",
       "1                21               21                   remov democraci india    \n",
       "2                87               88                   watch fox news addict    \n",
       "3                70               79                 arnab goswami quit time    \n",
       "4               100              100                  best friend date crush    \n",
       "\n",
       "                                             cleanQ2  \n",
       "0  polit divis issu untri would bizarr peopl untr...  \n",
       "1               biggest blunder made vajpaye govern   \n",
       "2                                watch fox news bad   \n",
       "3                              arnab goswami resign   \n",
       "4                            best friend date crush   "
      ]
     },
     "execution_count": 74,
     "metadata": {},
     "output_type": "execute_result"
    }
   ],
   "source": [
    "df.head()"
   ]
  },
  {
   "cell_type": "code",
   "execution_count": 70,
   "metadata": {},
   "outputs": [],
   "source": [
    "df.to_csv('../data/processed/featured_data.csv', index = False)"
   ]
  },
  {
   "cell_type": "code",
   "execution_count": 75,
   "metadata": {},
   "outputs": [],
   "source": [
    "from nltk.corpus import stopwords\n",
    "from nltk.stem import SnowballStemmer\n",
    "\n",
    "from keras.preprocessing.text import Tokenizer\n",
    "from keras.preprocessing.sequence import pad_sequences\n",
    "from keras.layers import Dense, Input, LSTM, Embedding, Dropout, Activation\n",
    "from keras.layers.merge import concatenate\n",
    "from keras.models import Model\n",
    "from keras.layers.normalization import BatchNormalization\n",
    "from keras.callbacks import EarlyStopping, ModelCheckpoint\n",
    "\n",
    "from sklearn.preprocessing import StandardScaler"
   ]
  },
  {
   "cell_type": "code",
   "execution_count": 77,
   "metadata": {},
   "outputs": [],
   "source": [
    "# df_random = df.drop(['id', 'qid1', 'qid2', 'question1', 'question2', 'words',\n",
    "#                     'q1len', 'q2len', 'q1_n_words', 'q2_n_words', 'word_share',\n",
    "#                      'freq_qid1', 'freq_qid2'], axis=1).sample(frac=0.4).reset_index(drop=True)\n",
    "\n",
    "df_random = df.copy()"
   ]
  },
  {
   "cell_type": "code",
   "execution_count": 78,
   "metadata": {},
   "outputs": [
    {
     "data": {
      "text/plain": [
       "(161582, 9)"
      ]
     },
     "execution_count": 78,
     "metadata": {},
     "output_type": "execute_result"
    }
   ],
   "source": [
    "df_random.shape"
   ]
  },
  {
   "cell_type": "code",
   "execution_count": 79,
   "metadata": {},
   "outputs": [],
   "source": [
    "X = df_random.drop(['is_duplicate'], axis=1)\n",
    "y = df_random['is_duplicate']"
   ]
  },
  {
   "cell_type": "code",
   "execution_count": 80,
   "metadata": {},
   "outputs": [],
   "source": [
    "from sklearn.model_selection import train_test_split\n",
    "X_train, X_test, y_train, y_test = train_test_split(X, y, test_size = 0.2, stratify = y, random_state = 42)"
   ]
  },
  {
   "cell_type": "code",
   "execution_count": 81,
   "metadata": {},
   "outputs": [],
   "source": [
    "df_train = pd.concat([X_train, y_train], axis=1).reset_index(drop=True)\n",
    "df_test = pd.concat([X_test, y_test], axis=1).reset_index(drop=True)"
   ]
  },
  {
   "cell_type": "code",
   "execution_count": 82,
   "metadata": {},
   "outputs": [
    {
     "data": {
      "text/html": [
       "<div>\n",
       "<style scoped>\n",
       "    .dataframe tbody tr th:only-of-type {\n",
       "        vertical-align: middle;\n",
       "    }\n",
       "\n",
       "    .dataframe tbody tr th {\n",
       "        vertical-align: top;\n",
       "    }\n",
       "\n",
       "    .dataframe thead th {\n",
       "        text-align: right;\n",
       "    }\n",
       "</style>\n",
       "<table border=\"1\" class=\"dataframe\">\n",
       "  <thead>\n",
       "    <tr style=\"text-align: right;\">\n",
       "      <th></th>\n",
       "      <th>id</th>\n",
       "      <th>common_word_ratio</th>\n",
       "      <th>fuzz_ratio</th>\n",
       "      <th>Partial_Ratio</th>\n",
       "      <th>Token_Sort_Ratio</th>\n",
       "      <th>Token_Set_Ratio</th>\n",
       "      <th>cleanQ1</th>\n",
       "      <th>cleanQ2</th>\n",
       "      <th>is_duplicate</th>\n",
       "    </tr>\n",
       "  </thead>\n",
       "  <tbody>\n",
       "    <tr>\n",
       "      <th>0</th>\n",
       "      <td>256884</td>\n",
       "      <td>0.100000</td>\n",
       "      <td>55</td>\n",
       "      <td>61</td>\n",
       "      <td>57</td>\n",
       "      <td>60</td>\n",
       "      <td>write script street play hindi</td>\n",
       "      <td>learn movi script write new delhi</td>\n",
       "      <td>0</td>\n",
       "    </tr>\n",
       "    <tr>\n",
       "      <th>1</th>\n",
       "      <td>375287</td>\n",
       "      <td>0.111111</td>\n",
       "      <td>55</td>\n",
       "      <td>59</td>\n",
       "      <td>73</td>\n",
       "      <td>74</td>\n",
       "      <td>best way get knot hair</td>\n",
       "      <td>brush hair without get knot</td>\n",
       "      <td>0</td>\n",
       "    </tr>\n",
       "    <tr>\n",
       "      <th>2</th>\n",
       "      <td>253176</td>\n",
       "      <td>0.285714</td>\n",
       "      <td>52</td>\n",
       "      <td>67</td>\n",
       "      <td>88</td>\n",
       "      <td>100</td>\n",
       "      <td>gain weight healthi way</td>\n",
       "      <td>healthi way gain weight muscl</td>\n",
       "      <td>1</td>\n",
       "    </tr>\n",
       "    <tr>\n",
       "      <th>3</th>\n",
       "      <td>367907</td>\n",
       "      <td>0.153846</td>\n",
       "      <td>46</td>\n",
       "      <td>49</td>\n",
       "      <td>49</td>\n",
       "      <td>52</td>\n",
       "      <td>way get detail gmail id user detail googl</td>\n",
       "      <td>safe enter credit card detail purchas googl play</td>\n",
       "      <td>0</td>\n",
       "    </tr>\n",
       "    <tr>\n",
       "      <th>4</th>\n",
       "      <td>89563</td>\n",
       "      <td>0.250000</td>\n",
       "      <td>47</td>\n",
       "      <td>64</td>\n",
       "      <td>45</td>\n",
       "      <td>56</td>\n",
       "      <td>would name first town loni mar</td>\n",
       "      <td>first satellit sent mar</td>\n",
       "      <td>0</td>\n",
       "    </tr>\n",
       "  </tbody>\n",
       "</table>\n",
       "</div>"
      ],
      "text/plain": [
       "       id  common_word_ratio  fuzz_ratio  Partial_Ratio  Token_Sort_Ratio  \\\n",
       "0  256884           0.100000          55             61                57   \n",
       "1  375287           0.111111          55             59                73   \n",
       "2  253176           0.285714          52             67                88   \n",
       "3  367907           0.153846          46             49                49   \n",
       "4   89563           0.250000          47             64                45   \n",
       "\n",
       "   Token_Set_Ratio                                     cleanQ1  \\\n",
       "0               60             write script street play hindi    \n",
       "1               74                     best way get knot hair    \n",
       "2              100                    gain weight healthi way    \n",
       "3               52  way get detail gmail id user detail googl    \n",
       "4               56             would name first town loni mar    \n",
       "\n",
       "                                             cleanQ2  is_duplicate  \n",
       "0                 learn movi script write new delhi              0  \n",
       "1                       brush hair without get knot              0  \n",
       "2                     healthi way gain weight muscl              1  \n",
       "3  safe enter credit card detail purchas googl play              0  \n",
       "4                           first satellit sent mar              0  "
      ]
     },
     "execution_count": 82,
     "metadata": {},
     "output_type": "execute_result"
    }
   ],
   "source": [
    "df_train.head()"
   ]
  },
  {
   "cell_type": "code",
   "execution_count": 83,
   "metadata": {},
   "outputs": [],
   "source": [
    "BASE_DIR = '../data/'\n",
    "GLOVE_DIR = BASE_DIR + 'interim/'\n",
    "# TRAIN_DATA_FILE = BASE_DIR + 'processed/train.csv'\n",
    "# TEST_DATA_FILE = BASE_DIR + 'processed/test.csv'\n",
    "MAX_SEQUENCE_LENGTH = 40\n",
    "MAX_NB_WORDS = 400000\n",
    "EMBEDDING_DIM = 300\n",
    "# VALIDATION_SPLIT = 0.01"
   ]
  },
  {
   "cell_type": "code",
   "execution_count": 84,
   "metadata": {},
   "outputs": [
    {
     "name": "stdout",
     "output_type": "stream",
     "text": [
      "Indexing word vectors.\n",
      "Found 400000 word vectors.\n"
     ]
    }
   ],
   "source": [
    "print('Indexing word vectors.')\n",
    "embeddings_index = {}\n",
    "f = codecs.open(os.path.join(GLOVE_DIR, 'glove.6B.300d.txt'), encoding='utf-8')\n",
    "for line in f:\n",
    "    values = line.split(' ')\n",
    "    word = values[0]\n",
    "    coefs = np.asarray(values[1:], dtype='float32')\n",
    "    embeddings_index[word] = coefs\n",
    "f.close()\n",
    "print('Found %s word vectors.' % len(embeddings_index))"
   ]
  },
  {
   "cell_type": "code",
   "execution_count": 85,
   "metadata": {},
   "outputs": [
    {
     "data": {
      "text/html": [
       "<div>\n",
       "<style scoped>\n",
       "    .dataframe tbody tr th:only-of-type {\n",
       "        vertical-align: middle;\n",
       "    }\n",
       "\n",
       "    .dataframe tbody tr th {\n",
       "        vertical-align: top;\n",
       "    }\n",
       "\n",
       "    .dataframe thead th {\n",
       "        text-align: right;\n",
       "    }\n",
       "</style>\n",
       "<table border=\"1\" class=\"dataframe\">\n",
       "  <thead>\n",
       "    <tr style=\"text-align: right;\">\n",
       "      <th></th>\n",
       "      <th>id</th>\n",
       "      <th>common_word_ratio</th>\n",
       "      <th>fuzz_ratio</th>\n",
       "      <th>Partial_Ratio</th>\n",
       "      <th>Token_Sort_Ratio</th>\n",
       "      <th>Token_Set_Ratio</th>\n",
       "      <th>cleanQ1</th>\n",
       "      <th>cleanQ2</th>\n",
       "      <th>is_duplicate</th>\n",
       "    </tr>\n",
       "  </thead>\n",
       "  <tbody>\n",
       "    <tr>\n",
       "      <th>0</th>\n",
       "      <td>256884</td>\n",
       "      <td>0.100000</td>\n",
       "      <td>55</td>\n",
       "      <td>61</td>\n",
       "      <td>57</td>\n",
       "      <td>60</td>\n",
       "      <td>write script street play hindi</td>\n",
       "      <td>learn movi script write new delhi</td>\n",
       "      <td>0</td>\n",
       "    </tr>\n",
       "    <tr>\n",
       "      <th>1</th>\n",
       "      <td>375287</td>\n",
       "      <td>0.111111</td>\n",
       "      <td>55</td>\n",
       "      <td>59</td>\n",
       "      <td>73</td>\n",
       "      <td>74</td>\n",
       "      <td>best way get knot hair</td>\n",
       "      <td>brush hair without get knot</td>\n",
       "      <td>0</td>\n",
       "    </tr>\n",
       "    <tr>\n",
       "      <th>2</th>\n",
       "      <td>253176</td>\n",
       "      <td>0.285714</td>\n",
       "      <td>52</td>\n",
       "      <td>67</td>\n",
       "      <td>88</td>\n",
       "      <td>100</td>\n",
       "      <td>gain weight healthi way</td>\n",
       "      <td>healthi way gain weight muscl</td>\n",
       "      <td>1</td>\n",
       "    </tr>\n",
       "    <tr>\n",
       "      <th>3</th>\n",
       "      <td>367907</td>\n",
       "      <td>0.153846</td>\n",
       "      <td>46</td>\n",
       "      <td>49</td>\n",
       "      <td>49</td>\n",
       "      <td>52</td>\n",
       "      <td>way get detail gmail id user detail googl</td>\n",
       "      <td>safe enter credit card detail purchas googl play</td>\n",
       "      <td>0</td>\n",
       "    </tr>\n",
       "    <tr>\n",
       "      <th>4</th>\n",
       "      <td>89563</td>\n",
       "      <td>0.250000</td>\n",
       "      <td>47</td>\n",
       "      <td>64</td>\n",
       "      <td>45</td>\n",
       "      <td>56</td>\n",
       "      <td>would name first town loni mar</td>\n",
       "      <td>first satellit sent mar</td>\n",
       "      <td>0</td>\n",
       "    </tr>\n",
       "  </tbody>\n",
       "</table>\n",
       "</div>"
      ],
      "text/plain": [
       "       id  common_word_ratio  fuzz_ratio  Partial_Ratio  Token_Sort_Ratio  \\\n",
       "0  256884           0.100000          55             61                57   \n",
       "1  375287           0.111111          55             59                73   \n",
       "2  253176           0.285714          52             67                88   \n",
       "3  367907           0.153846          46             49                49   \n",
       "4   89563           0.250000          47             64                45   \n",
       "\n",
       "   Token_Set_Ratio                                     cleanQ1  \\\n",
       "0               60             write script street play hindi    \n",
       "1               74                     best way get knot hair    \n",
       "2              100                    gain weight healthi way    \n",
       "3               52  way get detail gmail id user detail googl    \n",
       "4               56             would name first town loni mar    \n",
       "\n",
       "                                             cleanQ2  is_duplicate  \n",
       "0                 learn movi script write new delhi              0  \n",
       "1                       brush hair without get knot              0  \n",
       "2                     healthi way gain weight muscl              1  \n",
       "3  safe enter credit card detail purchas googl play              0  \n",
       "4                           first satellit sent mar              0  "
      ]
     },
     "execution_count": 85,
     "metadata": {},
     "output_type": "execute_result"
    }
   ],
   "source": [
    "df_train.head()"
   ]
  },
  {
   "cell_type": "code",
   "execution_count": 86,
   "metadata": {},
   "outputs": [],
   "source": [
    "X_train = df_train.drop('is_duplicate', axis=1)\n",
    "y_train = df_train['is_duplicate']\n",
    "X_train = df_test.drop('is_duplicate', axis=1)\n",
    "y_train = df_test['is_duplicate']"
   ]
  },
  {
   "cell_type": "code",
   "execution_count": null,
   "metadata": {},
   "outputs": [],
   "source": [
    "\n"
   ]
  },
  {
   "cell_type": "code",
   "execution_count": null,
   "metadata": {},
   "outputs": [],
   "source": []
  },
  {
   "cell_type": "code",
   "execution_count": 89,
   "metadata": {},
   "outputs": [
    {
     "name": "stdout",
     "output_type": "stream",
     "text": [
      "Found 35218 unique tokens\n",
      "Shape of data tensor: (129265, 40)\n",
      "Shape of label tensor: (129265,)\n"
     ]
    }
   ],
   "source": [
    "\n",
    "\n",
    "tokenizer = Tokenizer(num_words=MAX_NB_WORDS)\n",
    "tokenizer.fit_on_texts(df_train['cleanQ1']+ df_train['cleanQ2'])\n",
    "\n",
    "sequences_1 = tokenizer.texts_to_sequences(df_train['cleanQ1'])\n",
    "sequences_2 = tokenizer.texts_to_sequences(df_train['cleanQ2'])\n",
    "\n",
    "\n",
    "word_index = tokenizer.word_index\n",
    "print('Found %s unique tokens' % len(word_index))\n",
    "\n",
    "train_data_1 = pad_sequences(sequences_1, maxlen=MAX_SEQUENCE_LENGTH)\n",
    "train_data_2 = pad_sequences(sequences_2, maxlen=MAX_SEQUENCE_LENGTH)\n",
    "train_labels = np.array(df_train['is_duplicate'])\n",
    "print('Shape of data tensor:', train_data_1.shape)\n",
    "print('Shape of label tensor:', train_labels.shape)\n",
    "\n",
    "train_data_3 = df_train[['common_word_ratio', 'fuzz_ratio']].values"
   ]
  },
  {
   "cell_type": "code",
   "execution_count": 90,
   "metadata": {},
   "outputs": [],
   "source": [
    "test_sequences_1 = tokenizer.texts_to_sequences(df_test['cleanQ1'])\n",
    "test_sequences_2 = tokenizer.texts_to_sequences(df_test['cleanQ2'])\n",
    "test_data_1 = pad_sequences(test_sequences_1, maxlen=MAX_SEQUENCE_LENGTH)\n",
    "test_data_2 = pad_sequences(test_sequences_2, maxlen=MAX_SEQUENCE_LENGTH)\n",
    "test_ids = np.array(df_test['is_duplicate'])"
   ]
  },
  {
   "cell_type": "code",
   "execution_count": 91,
   "metadata": {},
   "outputs": [],
   "source": [
    "train_data_1 =  pd.concat([pd.DataFrame(train_data_1), df_train[['common_word_ratio', 'fuzz_ratio']]], axis=1).values\n",
    "train_data_2 =  pd.concat([pd.DataFrame(train_data_2), df_train[['common_word_ratio', 'fuzz_ratio']]], axis=1).values\n",
    "test_data_1 =  pd.concat([pd.DataFrame(test_data_1), df_train[['common_word_ratio', 'fuzz_ratio']]], axis=1).values\n",
    "test_data_2 =  pd.concat([pd.DataFrame(test_data_2), df_train[['common_word_ratio', 'fuzz_ratio']]], axis=1).values"
   ]
  },
  {
   "cell_type": "code",
   "execution_count": null,
   "metadata": {},
   "outputs": [],
   "source": []
  },
  {
   "cell_type": "code",
   "execution_count": 92,
   "metadata": {},
   "outputs": [
    {
     "name": "stdout",
     "output_type": "stream",
     "text": [
      "Preparing embedding matrix\n",
      "Null word embeddings: 379845\n"
     ]
    }
   ],
   "source": [
    "########################################\n",
    "## prepare embeddings\n",
    "########################################\n",
    "print('Preparing embedding matrix')\n",
    "\n",
    "nb_words = max(MAX_NB_WORDS, len(word_index))+1\n",
    "\n",
    "embedding_matrix = np.zeros((nb_words, EMBEDDING_DIM))\n",
    "for word, i in word_index.items():\n",
    "    embedding_vector = embeddings_index.get(word)\n",
    "    if embedding_vector is not None:\n",
    "        embedding_matrix[i] = embedding_vector\n",
    "print('Null word embeddings: %d' % np.sum(np.sum(embedding_matrix, axis=1) == 0))"
   ]
  },
  {
   "cell_type": "code",
   "execution_count": 93,
   "metadata": {},
   "outputs": [],
   "source": [
    "num_lstm = np.random.randint(175, 275)\n",
    "num_dense = np.random.randint(100, 150)\n",
    "rate_drop_lstm = 0.15 + np.random.rand() * 0.25\n",
    "rate_drop_dense = 0.15 + np.random.rand() * 0.25\n",
    "\n",
    "act = 'relu'\n",
    "re_weight = True # whether to re-weight classes to fit the 17.5% share in test set\n",
    "\n"
   ]
  },
  {
   "cell_type": "code",
   "execution_count": 94,
   "metadata": {},
   "outputs": [],
   "source": [
    "STAMP = 'lstm_%d_%d_%.2f_%.2f'%(num_lstm, num_dense, rate_drop_lstm, \\\n",
    "        rate_drop_dense)"
   ]
  },
  {
   "cell_type": "code",
   "execution_count": 95,
   "metadata": {},
   "outputs": [],
   "source": [
    "VALIDATION_SPLIT = 0.01\n",
    "########################################\n",
    "## sample train/validation data\n",
    "########################################\n",
    "#np.random.seed(1234)\n",
    "perm = np.random.permutation(len(train_data_1))\n",
    "idx_train = perm[:int(len(train_data_1)*(1-VALIDATION_SPLIT))]\n",
    "idx_val = perm[int(len(train_data_1)*(1-VALIDATION_SPLIT)):]\n",
    "\n",
    "data_1_train = np.vstack((train_data_1[idx_train], train_data_2[idx_train]))\n",
    "data_2_train = np.vstack((train_data_2[idx_train], train_data_1[idx_train]))\n",
    "\n",
    "labels_train = np.concatenate((train_labels[idx_train], train_labels[idx_train]))\n",
    "\n",
    "data_1_val = np.vstack((train_data_1[idx_val], train_data_2[idx_val]))\n",
    "data_2_val = np.vstack((train_data_2[idx_val], train_data_1[idx_val]))\n",
    "labels_val = np.concatenate((train_labels[idx_val], train_labels[idx_val]))\n",
    "\n",
    "weight_val = np.ones(len(labels_val))\n",
    "if re_weight:\n",
    "    weight_val *= 0.472001959\n",
    "    weight_val[labels_val==0] = 1.309028344"
   ]
  },
  {
   "cell_type": "code",
   "execution_count": 96,
   "metadata": {},
   "outputs": [],
   "source": [
    "########################################\n",
    "## define the model structure\n",
    "########################################\n",
    "embedding_layer = Embedding(nb_words,\n",
    "        EMBEDDING_DIM,\n",
    "        weights=[embedding_matrix],\n",
    "        input_length=MAX_SEQUENCE_LENGTH+2,\n",
    "        trainable=False)\n",
    "lstm_layer = LSTM(num_lstm, dropout=rate_drop_lstm, recurrent_dropout=rate_drop_lstm)\n",
    "\n",
    "sequence_1_input = Input(shape=(MAX_SEQUENCE_LENGTH+2,), dtype='int32')\n",
    "embedded_sequences_1 = embedding_layer(sequence_1_input)\n",
    "x1 = lstm_layer(embedded_sequences_1)\n",
    "\n",
    "sequence_2_input = Input(shape=(MAX_SEQUENCE_LENGTH+2,), dtype='int32')\n",
    "embedded_sequences_2 = embedding_layer(sequence_2_input)\n",
    "y1 = lstm_layer(embedded_sequences_2)\n",
    "\n",
    "merged = concatenate([x1, y1])\n",
    "merged = Dropout(rate_drop_dense)(merged)\n",
    "merged = BatchNormalization()(merged)\n",
    "\n",
    "merged = Dense(num_dense, activation=act)(merged)\n",
    "merged = Dropout(rate_drop_dense)(merged)\n",
    "merged = BatchNormalization()(merged)\n",
    "\n",
    "preds = Dense(1, activation='sigmoid')(merged)"
   ]
  },
  {
   "cell_type": "code",
   "execution_count": 97,
   "metadata": {},
   "outputs": [],
   "source": [
    "########################################\n",
    "## add class weight\n",
    "########################################\n",
    "if re_weight:\n",
    "    class_weight = {0: 1.309028344, 1: 0.472001959}\n",
    "else:\n",
    "    class_weight = None"
   ]
  },
  {
   "cell_type": "code",
   "execution_count": 98,
   "metadata": {},
   "outputs": [
    {
     "name": "stdout",
     "output_type": "stream",
     "text": [
      "lstm_180_143_0.35_0.30\n",
      "Train on 255944 samples, validate on 2586 samples\n",
      "Epoch 1/20\n",
      "255944/255944 [==============================] - 368s 1ms/step - loss: 0.4896 - accuracy: 0.6663 - val_loss: 0.4091 - val_accuracy: 0.6396\n",
      "Epoch 2/20\n",
      "255944/255944 [==============================] - 363s 1ms/step - loss: 0.3793 - accuracy: 0.6910 - val_loss: 0.3699 - val_accuracy: 0.6520\n",
      "Epoch 3/20\n",
      "255944/255944 [==============================] - 361s 1ms/step - loss: 0.3579 - accuracy: 0.7011 - val_loss: 0.3469 - val_accuracy: 0.6825\n",
      "Epoch 4/20\n",
      "255944/255944 [==============================] - 358s 1ms/step - loss: 0.3470 - accuracy: 0.7109 - val_loss: 0.3344 - val_accuracy: 0.7166\n",
      "Epoch 5/20\n",
      "255944/255944 [==============================] - 358s 1ms/step - loss: 0.3384 - accuracy: 0.7203 - val_loss: 0.3278 - val_accuracy: 0.7258\n",
      "Epoch 6/20\n",
      "255944/255944 [==============================] - 360s 1ms/step - loss: 0.3313 - accuracy: 0.7285 - val_loss: 0.3244 - val_accuracy: 0.7367\n",
      "Epoch 7/20\n",
      "255944/255944 [==============================] - 364s 1ms/step - loss: 0.3253 - accuracy: 0.7356 - val_loss: 0.3252 - val_accuracy: 0.7224\n",
      "Epoch 8/20\n",
      "255944/255944 [==============================] - 400s 2ms/step - loss: 0.3189 - accuracy: 0.7426 - val_loss: 0.3191 - val_accuracy: 0.7486\n",
      "Epoch 9/20\n",
      "255944/255944 [==============================] - 463s 2ms/step - loss: 0.3135 - accuracy: 0.7486 - val_loss: 0.3130 - val_accuracy: 0.7529\n",
      "Epoch 10/20\n",
      "255944/255944 [==============================] - 468s 2ms/step - loss: 0.3083 - accuracy: 0.7551 - val_loss: 0.3136 - val_accuracy: 0.7444\n",
      "Epoch 11/20\n",
      "255944/255944 [==============================] - 361s 1ms/step - loss: 0.3028 - accuracy: 0.7594 - val_loss: 0.3188 - val_accuracy: 0.7610\n",
      "Epoch 12/20\n",
      "255944/255944 [==============================] - 362s 1ms/step - loss: 0.2981 - accuracy: 0.7649 - val_loss: 0.3209 - val_accuracy: 0.7637\n"
     ]
    }
   ],
   "source": [
    "########################################\n",
    "## train the model\n",
    "########################################\n",
    "\n",
    "model = Model(inputs=[sequence_1_input, sequence_2_input], \\\n",
    "        outputs=preds)\n",
    "model.compile(loss='binary_crossentropy',\n",
    "        optimizer='nadam',\n",
    "        metrics=['accuracy'])\n",
    "#model.summary()\n",
    "print(STAMP)\n",
    "\n",
    "early_stopping =EarlyStopping(monitor='val_loss', patience=3)\n",
    "bst_model_path = STAMP + '_12.h5'\n",
    "model_checkpoint = ModelCheckpoint(bst_model_path, save_best_only=True, save_weights_only=True)\n",
    "\n",
    "hist = model.fit([data_1_train, data_2_train], labels_train, \\\n",
    "        validation_data=([data_1_val, data_2_val], labels_val, weight_val), \\\n",
    "        epochs=20, batch_size=2048, shuffle=True, \\\n",
    "        class_weight=class_weight, callbacks=[early_stopping, model_checkpoint])\n",
    "\n",
    "model.load_weights(bst_model_path)\n",
    "bst_val_score = min(hist.history['val_loss'])"
   ]
  },
  {
   "cell_type": "code",
   "execution_count": 99,
   "metadata": {},
   "outputs": [
    {
     "name": "stdout",
     "output_type": "stream",
     "text": [
      " 24576/129265 [====>.........................] - ETA: 58s "
     ]
    },
    {
     "ename": "InvalidArgumentError",
     "evalue": " indices[7741,0] = -2147483648 is not in [0, 400001)\n\t [[node embedding_1/embedding_lookup (defined at C:\\Users\\JShah\\Anaconda3\\envs\\8387\\lib\\site-packages\\keras\\backend\\tensorflow_backend.py:3007) ]] [Op:__inference_keras_scratch_graph_16986]\n\nFunction call stack:\nkeras_scratch_graph\n",
     "output_type": "error",
     "traceback": [
      "\u001b[1;31m---------------------------------------------------------------------------\u001b[0m",
      "\u001b[1;31mInvalidArgumentError\u001b[0m                      Traceback (most recent call last)",
      "\u001b[1;32m<ipython-input-99-2dedac0299fc>\u001b[0m in \u001b[0;36m<module>\u001b[1;34m\u001b[0m\n\u001b[1;32m----> 1\u001b[1;33m \u001b[0mpreds\u001b[0m \u001b[1;33m=\u001b[0m \u001b[0mmodel\u001b[0m\u001b[1;33m.\u001b[0m\u001b[0mpredict\u001b[0m\u001b[1;33m(\u001b[0m\u001b[1;33m[\u001b[0m\u001b[0mtest_data_1\u001b[0m\u001b[1;33m,\u001b[0m \u001b[0mtest_data_2\u001b[0m\u001b[1;33m]\u001b[0m\u001b[1;33m,\u001b[0m \u001b[0mbatch_size\u001b[0m\u001b[1;33m=\u001b[0m\u001b[1;36m8192\u001b[0m\u001b[1;33m,\u001b[0m \u001b[0mverbose\u001b[0m\u001b[1;33m=\u001b[0m\u001b[1;36m1\u001b[0m\u001b[1;33m)\u001b[0m\u001b[1;33m\u001b[0m\u001b[1;33m\u001b[0m\u001b[0m\n\u001b[0m\u001b[0;32m      2\u001b[0m \u001b[0mpreds\u001b[0m \u001b[1;33m+=\u001b[0m \u001b[0mmodel\u001b[0m\u001b[1;33m.\u001b[0m\u001b[0mpredict\u001b[0m\u001b[1;33m(\u001b[0m\u001b[1;33m[\u001b[0m\u001b[0mtest_data_2\u001b[0m\u001b[1;33m,\u001b[0m \u001b[0mtest_data_1\u001b[0m\u001b[1;33m]\u001b[0m\u001b[1;33m,\u001b[0m \u001b[0mbatch_size\u001b[0m\u001b[1;33m=\u001b[0m\u001b[1;36m8192\u001b[0m\u001b[1;33m,\u001b[0m \u001b[0mverbose\u001b[0m\u001b[1;33m=\u001b[0m\u001b[1;36m1\u001b[0m\u001b[1;33m)\u001b[0m\u001b[1;33m\u001b[0m\u001b[1;33m\u001b[0m\u001b[0m\n\u001b[0;32m      3\u001b[0m \u001b[0mpreds\u001b[0m \u001b[1;33m/=\u001b[0m \u001b[1;36m2\u001b[0m\u001b[1;33m\u001b[0m\u001b[1;33m\u001b[0m\u001b[0m\n",
      "\u001b[1;32m~\\Anaconda3\\envs\\8387\\lib\\site-packages\\keras\\engine\\training.py\u001b[0m in \u001b[0;36mpredict\u001b[1;34m(self, x, batch_size, verbose, steps, callbacks, max_queue_size, workers, use_multiprocessing)\u001b[0m\n\u001b[0;32m   1456\u001b[0m         \u001b[0mself\u001b[0m\u001b[1;33m.\u001b[0m\u001b[0m_make_predict_function\u001b[0m\u001b[1;33m(\u001b[0m\u001b[1;33m)\u001b[0m\u001b[1;33m\u001b[0m\u001b[1;33m\u001b[0m\u001b[0m\n\u001b[0;32m   1457\u001b[0m         \u001b[0mf\u001b[0m \u001b[1;33m=\u001b[0m \u001b[0mself\u001b[0m\u001b[1;33m.\u001b[0m\u001b[0mpredict_function\u001b[0m\u001b[1;33m\u001b[0m\u001b[1;33m\u001b[0m\u001b[0m\n\u001b[1;32m-> 1458\u001b[1;33m         return training_arrays.predict_loop(self, f, ins,\n\u001b[0m\u001b[0;32m   1459\u001b[0m                                             \u001b[0mbatch_size\u001b[0m\u001b[1;33m=\u001b[0m\u001b[0mbatch_size\u001b[0m\u001b[1;33m,\u001b[0m\u001b[1;33m\u001b[0m\u001b[1;33m\u001b[0m\u001b[0m\n\u001b[0;32m   1460\u001b[0m                                             \u001b[0mverbose\u001b[0m\u001b[1;33m=\u001b[0m\u001b[0mverbose\u001b[0m\u001b[1;33m,\u001b[0m\u001b[1;33m\u001b[0m\u001b[1;33m\u001b[0m\u001b[0m\n",
      "\u001b[1;32m~\\Anaconda3\\envs\\8387\\lib\\site-packages\\keras\\engine\\training_arrays.py\u001b[0m in \u001b[0;36mpredict_loop\u001b[1;34m(model, f, ins, batch_size, verbose, steps, callbacks)\u001b[0m\n\u001b[0;32m    322\u001b[0m             \u001b[0mbatch_logs\u001b[0m \u001b[1;33m=\u001b[0m \u001b[1;33m{\u001b[0m\u001b[1;34m'batch'\u001b[0m\u001b[1;33m:\u001b[0m \u001b[0mbatch_index\u001b[0m\u001b[1;33m,\u001b[0m \u001b[1;34m'size'\u001b[0m\u001b[1;33m:\u001b[0m \u001b[0mlen\u001b[0m\u001b[1;33m(\u001b[0m\u001b[0mbatch_ids\u001b[0m\u001b[1;33m)\u001b[0m\u001b[1;33m}\u001b[0m\u001b[1;33m\u001b[0m\u001b[1;33m\u001b[0m\u001b[0m\n\u001b[0;32m    323\u001b[0m             \u001b[0mcallbacks\u001b[0m\u001b[1;33m.\u001b[0m\u001b[0m_call_batch_hook\u001b[0m\u001b[1;33m(\u001b[0m\u001b[1;34m'predict'\u001b[0m\u001b[1;33m,\u001b[0m \u001b[1;34m'begin'\u001b[0m\u001b[1;33m,\u001b[0m \u001b[0mbatch_index\u001b[0m\u001b[1;33m,\u001b[0m \u001b[0mbatch_logs\u001b[0m\u001b[1;33m)\u001b[0m\u001b[1;33m\u001b[0m\u001b[1;33m\u001b[0m\u001b[0m\n\u001b[1;32m--> 324\u001b[1;33m             \u001b[0mbatch_outs\u001b[0m \u001b[1;33m=\u001b[0m \u001b[0mf\u001b[0m\u001b[1;33m(\u001b[0m\u001b[0mins_batch\u001b[0m\u001b[1;33m)\u001b[0m\u001b[1;33m\u001b[0m\u001b[1;33m\u001b[0m\u001b[0m\n\u001b[0m\u001b[0;32m    325\u001b[0m             \u001b[0mbatch_outs\u001b[0m \u001b[1;33m=\u001b[0m \u001b[0mto_list\u001b[0m\u001b[1;33m(\u001b[0m\u001b[0mbatch_outs\u001b[0m\u001b[1;33m)\u001b[0m\u001b[1;33m\u001b[0m\u001b[1;33m\u001b[0m\u001b[0m\n\u001b[0;32m    326\u001b[0m             \u001b[1;32mif\u001b[0m \u001b[0mbatch_index\u001b[0m \u001b[1;33m==\u001b[0m \u001b[1;36m0\u001b[0m\u001b[1;33m:\u001b[0m\u001b[1;33m\u001b[0m\u001b[1;33m\u001b[0m\u001b[0m\n",
      "\u001b[1;32m~\\AppData\\Roaming\\Python\\Python38\\site-packages\\tensorflow\\python\\keras\\backend.py\u001b[0m in \u001b[0;36m__call__\u001b[1;34m(self, inputs)\u001b[0m\n\u001b[0;32m   3790\u001b[0m         \u001b[0mvalue\u001b[0m \u001b[1;33m=\u001b[0m \u001b[0mmath_ops\u001b[0m\u001b[1;33m.\u001b[0m\u001b[0mcast\u001b[0m\u001b[1;33m(\u001b[0m\u001b[0mvalue\u001b[0m\u001b[1;33m,\u001b[0m \u001b[0mtensor\u001b[0m\u001b[1;33m.\u001b[0m\u001b[0mdtype\u001b[0m\u001b[1;33m)\u001b[0m\u001b[1;33m\u001b[0m\u001b[1;33m\u001b[0m\u001b[0m\n\u001b[0;32m   3791\u001b[0m       \u001b[0mconverted_inputs\u001b[0m\u001b[1;33m.\u001b[0m\u001b[0mappend\u001b[0m\u001b[1;33m(\u001b[0m\u001b[0mvalue\u001b[0m\u001b[1;33m)\u001b[0m\u001b[1;33m\u001b[0m\u001b[1;33m\u001b[0m\u001b[0m\n\u001b[1;32m-> 3792\u001b[1;33m     \u001b[0moutputs\u001b[0m \u001b[1;33m=\u001b[0m \u001b[0mself\u001b[0m\u001b[1;33m.\u001b[0m\u001b[0m_graph_fn\u001b[0m\u001b[1;33m(\u001b[0m\u001b[1;33m*\u001b[0m\u001b[0mconverted_inputs\u001b[0m\u001b[1;33m)\u001b[0m\u001b[1;33m\u001b[0m\u001b[1;33m\u001b[0m\u001b[0m\n\u001b[0m\u001b[0;32m   3793\u001b[0m \u001b[1;33m\u001b[0m\u001b[0m\n\u001b[0;32m   3794\u001b[0m     \u001b[1;31m# EagerTensor.numpy() will often make a copy to ensure memory safety.\u001b[0m\u001b[1;33m\u001b[0m\u001b[1;33m\u001b[0m\u001b[1;33m\u001b[0m\u001b[0m\n",
      "\u001b[1;32m~\\AppData\\Roaming\\Python\\Python38\\site-packages\\tensorflow\\python\\eager\\function.py\u001b[0m in \u001b[0;36m__call__\u001b[1;34m(self, *args, **kwargs)\u001b[0m\n\u001b[0;32m   1603\u001b[0m       \u001b[0mTypeError\u001b[0m\u001b[1;33m:\u001b[0m \u001b[0mFor\u001b[0m \u001b[0minvalid\u001b[0m \u001b[0mpositional\u001b[0m\u001b[1;33m/\u001b[0m\u001b[0mkeyword\u001b[0m \u001b[0margument\u001b[0m \u001b[0mcombinations\u001b[0m\u001b[1;33m.\u001b[0m\u001b[1;33m\u001b[0m\u001b[1;33m\u001b[0m\u001b[0m\n\u001b[0;32m   1604\u001b[0m     \"\"\"\n\u001b[1;32m-> 1605\u001b[1;33m     \u001b[1;32mreturn\u001b[0m \u001b[0mself\u001b[0m\u001b[1;33m.\u001b[0m\u001b[0m_call_impl\u001b[0m\u001b[1;33m(\u001b[0m\u001b[0margs\u001b[0m\u001b[1;33m,\u001b[0m \u001b[0mkwargs\u001b[0m\u001b[1;33m)\u001b[0m\u001b[1;33m\u001b[0m\u001b[1;33m\u001b[0m\u001b[0m\n\u001b[0m\u001b[0;32m   1606\u001b[0m \u001b[1;33m\u001b[0m\u001b[0m\n\u001b[0;32m   1607\u001b[0m   \u001b[1;32mdef\u001b[0m \u001b[0m_call_impl\u001b[0m\u001b[1;33m(\u001b[0m\u001b[0mself\u001b[0m\u001b[1;33m,\u001b[0m \u001b[0margs\u001b[0m\u001b[1;33m,\u001b[0m \u001b[0mkwargs\u001b[0m\u001b[1;33m,\u001b[0m \u001b[0mcancellation_manager\u001b[0m\u001b[1;33m=\u001b[0m\u001b[1;32mNone\u001b[0m\u001b[1;33m)\u001b[0m\u001b[1;33m:\u001b[0m\u001b[1;33m\u001b[0m\u001b[1;33m\u001b[0m\u001b[0m\n",
      "\u001b[1;32m~\\AppData\\Roaming\\Python\\Python38\\site-packages\\tensorflow\\python\\eager\\function.py\u001b[0m in \u001b[0;36m_call_impl\u001b[1;34m(self, args, kwargs, cancellation_manager)\u001b[0m\n\u001b[0;32m   1643\u001b[0m       raise TypeError(\"Keyword arguments {} unknown. Expected {}.\".format(\n\u001b[0;32m   1644\u001b[0m           list(kwargs.keys()), list(self._arg_keywords)))\n\u001b[1;32m-> 1645\u001b[1;33m     \u001b[1;32mreturn\u001b[0m \u001b[0mself\u001b[0m\u001b[1;33m.\u001b[0m\u001b[0m_call_flat\u001b[0m\u001b[1;33m(\u001b[0m\u001b[0margs\u001b[0m\u001b[1;33m,\u001b[0m \u001b[0mself\u001b[0m\u001b[1;33m.\u001b[0m\u001b[0mcaptured_inputs\u001b[0m\u001b[1;33m,\u001b[0m \u001b[0mcancellation_manager\u001b[0m\u001b[1;33m)\u001b[0m\u001b[1;33m\u001b[0m\u001b[1;33m\u001b[0m\u001b[0m\n\u001b[0m\u001b[0;32m   1646\u001b[0m \u001b[1;33m\u001b[0m\u001b[0m\n\u001b[0;32m   1647\u001b[0m   \u001b[1;32mdef\u001b[0m \u001b[0m_filtered_call\u001b[0m\u001b[1;33m(\u001b[0m\u001b[0mself\u001b[0m\u001b[1;33m,\u001b[0m \u001b[0margs\u001b[0m\u001b[1;33m,\u001b[0m \u001b[0mkwargs\u001b[0m\u001b[1;33m)\u001b[0m\u001b[1;33m:\u001b[0m\u001b[1;33m\u001b[0m\u001b[1;33m\u001b[0m\u001b[0m\n",
      "\u001b[1;32m~\\AppData\\Roaming\\Python\\Python38\\site-packages\\tensorflow\\python\\eager\\function.py\u001b[0m in \u001b[0;36m_call_flat\u001b[1;34m(self, args, captured_inputs, cancellation_manager)\u001b[0m\n\u001b[0;32m   1743\u001b[0m         and executing_eagerly):\n\u001b[0;32m   1744\u001b[0m       \u001b[1;31m# No tape is watching; skip to running the function.\u001b[0m\u001b[1;33m\u001b[0m\u001b[1;33m\u001b[0m\u001b[1;33m\u001b[0m\u001b[0m\n\u001b[1;32m-> 1745\u001b[1;33m       return self._build_call_outputs(self._inference_function.call(\n\u001b[0m\u001b[0;32m   1746\u001b[0m           ctx, args, cancellation_manager=cancellation_manager))\n\u001b[0;32m   1747\u001b[0m     forward_backward = self._select_forward_and_backward_functions(\n",
      "\u001b[1;32m~\\AppData\\Roaming\\Python\\Python38\\site-packages\\tensorflow\\python\\eager\\function.py\u001b[0m in \u001b[0;36mcall\u001b[1;34m(self, ctx, args, cancellation_manager)\u001b[0m\n\u001b[0;32m    591\u001b[0m       \u001b[1;32mwith\u001b[0m \u001b[0m_InterpolateFunctionError\u001b[0m\u001b[1;33m(\u001b[0m\u001b[0mself\u001b[0m\u001b[1;33m)\u001b[0m\u001b[1;33m:\u001b[0m\u001b[1;33m\u001b[0m\u001b[1;33m\u001b[0m\u001b[0m\n\u001b[0;32m    592\u001b[0m         \u001b[1;32mif\u001b[0m \u001b[0mcancellation_manager\u001b[0m \u001b[1;32mis\u001b[0m \u001b[1;32mNone\u001b[0m\u001b[1;33m:\u001b[0m\u001b[1;33m\u001b[0m\u001b[1;33m\u001b[0m\u001b[0m\n\u001b[1;32m--> 593\u001b[1;33m           outputs = execute.execute(\n\u001b[0m\u001b[0;32m    594\u001b[0m               \u001b[0mstr\u001b[0m\u001b[1;33m(\u001b[0m\u001b[0mself\u001b[0m\u001b[1;33m.\u001b[0m\u001b[0msignature\u001b[0m\u001b[1;33m.\u001b[0m\u001b[0mname\u001b[0m\u001b[1;33m)\u001b[0m\u001b[1;33m,\u001b[0m\u001b[1;33m\u001b[0m\u001b[1;33m\u001b[0m\u001b[0m\n\u001b[0;32m    595\u001b[0m               \u001b[0mnum_outputs\u001b[0m\u001b[1;33m=\u001b[0m\u001b[0mself\u001b[0m\u001b[1;33m.\u001b[0m\u001b[0m_num_outputs\u001b[0m\u001b[1;33m,\u001b[0m\u001b[1;33m\u001b[0m\u001b[1;33m\u001b[0m\u001b[0m\n",
      "\u001b[1;32m~\\AppData\\Roaming\\Python\\Python38\\site-packages\\tensorflow\\python\\eager\\execute.py\u001b[0m in \u001b[0;36mquick_execute\u001b[1;34m(op_name, num_outputs, inputs, attrs, ctx, name)\u001b[0m\n\u001b[0;32m     57\u001b[0m   \u001b[1;32mtry\u001b[0m\u001b[1;33m:\u001b[0m\u001b[1;33m\u001b[0m\u001b[1;33m\u001b[0m\u001b[0m\n\u001b[0;32m     58\u001b[0m     \u001b[0mctx\u001b[0m\u001b[1;33m.\u001b[0m\u001b[0mensure_initialized\u001b[0m\u001b[1;33m(\u001b[0m\u001b[1;33m)\u001b[0m\u001b[1;33m\u001b[0m\u001b[1;33m\u001b[0m\u001b[0m\n\u001b[1;32m---> 59\u001b[1;33m     tensors = pywrap_tfe.TFE_Py_Execute(ctx._handle, device_name, op_name,\n\u001b[0m\u001b[0;32m     60\u001b[0m                                         inputs, attrs, num_outputs)\n\u001b[0;32m     61\u001b[0m   \u001b[1;32mexcept\u001b[0m \u001b[0mcore\u001b[0m\u001b[1;33m.\u001b[0m\u001b[0m_NotOkStatusException\u001b[0m \u001b[1;32mas\u001b[0m \u001b[0me\u001b[0m\u001b[1;33m:\u001b[0m\u001b[1;33m\u001b[0m\u001b[1;33m\u001b[0m\u001b[0m\n",
      "\u001b[1;31mInvalidArgumentError\u001b[0m:  indices[7741,0] = -2147483648 is not in [0, 400001)\n\t [[node embedding_1/embedding_lookup (defined at C:\\Users\\JShah\\Anaconda3\\envs\\8387\\lib\\site-packages\\keras\\backend\\tensorflow_backend.py:3007) ]] [Op:__inference_keras_scratch_graph_16986]\n\nFunction call stack:\nkeras_scratch_graph\n"
     ]
    }
   ],
   "source": [
    "\n",
    "preds = model.predict([test_data_1, test_data_2], batch_size=8192, verbose=1)\n",
    "preds += model.predict([test_data_2, test_data_1], batch_size=8192, verbose=1)\n",
    "preds /= 2"
   ]
  },
  {
   "cell_type": "code",
   "execution_count": null,
   "metadata": {},
   "outputs": [],
   "source": []
  }
 ],
 "metadata": {
  "kernelspec": {
   "display_name": "Python 3",
   "language": "python",
   "name": "python3"
  },
  "language_info": {
   "codemirror_mode": {
    "name": "ipython",
    "version": 3
   },
   "file_extension": ".py",
   "mimetype": "text/x-python",
   "name": "python",
   "nbconvert_exporter": "python",
   "pygments_lexer": "ipython3",
   "version": "3.8.3"
  }
 },
 "nbformat": 4,
 "nbformat_minor": 4
}
