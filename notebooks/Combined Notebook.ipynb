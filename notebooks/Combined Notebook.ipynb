{
 "cells": [
  {
   "cell_type": "code",
   "execution_count": 57,
   "metadata": {},
   "outputs": [],
   "source": [
    "import numpy as np\n",
    "import pandas as pd\n",
    "import seaborn as sns\n",
    "import re\n",
    "import matplotlib.pyplot as plt\n",
    "from tqdm import tqdm\n",
    "\n",
    "pd.options.display.max_colwidth = 200\n",
    "\n",
    "import nltk\n",
    "from nltk import word_tokenize, ngrams\n",
    "from nltk.corpus import stopwords\n",
    "from nltk.stem import PorterStemmer\n",
    "from nltk.stem import SnowballStemmer\n",
    "\n",
    "from fuzzywuzzy import fuzz\n",
    "\n",
    "import spacy\n",
    "from sklearn.feature_extraction.text import TfidfVectorizer\n",
    "from sklearn.feature_extraction.text import CountVectorizer\n",
    "\n",
    "\n",
    "snow=nltk.stem.SnowballStemmer('english')\n",
    "\n",
    "stop_words = set(stopwords.words('english'))\n",
    "ps = PorterStemmer()\n",
    "\n",
    "\n"
   ]
  },
  {
   "cell_type": "code",
   "execution_count": 2,
   "metadata": {},
   "outputs": [],
   "source": [
    "df = pd.read_csv(\"../data/raw/train.csv\")"
   ]
  },
  {
   "cell_type": "code",
   "execution_count": 3,
   "metadata": {},
   "outputs": [
    {
     "data": {
      "text/html": [
       "<div>\n",
       "<style scoped>\n",
       "    .dataframe tbody tr th:only-of-type {\n",
       "        vertical-align: middle;\n",
       "    }\n",
       "\n",
       "    .dataframe tbody tr th {\n",
       "        vertical-align: top;\n",
       "    }\n",
       "\n",
       "    .dataframe thead th {\n",
       "        text-align: right;\n",
       "    }\n",
       "</style>\n",
       "<table border=\"1\" class=\"dataframe\">\n",
       "  <thead>\n",
       "    <tr style=\"text-align: right;\">\n",
       "      <th></th>\n",
       "      <th>id</th>\n",
       "      <th>qid1</th>\n",
       "      <th>qid2</th>\n",
       "      <th>question1</th>\n",
       "      <th>question2</th>\n",
       "      <th>is_duplicate</th>\n",
       "    </tr>\n",
       "  </thead>\n",
       "  <tbody>\n",
       "    <tr>\n",
       "      <th>0</th>\n",
       "      <td>0</td>\n",
       "      <td>1</td>\n",
       "      <td>2</td>\n",
       "      <td>What is the step by step guide to invest in share market in india?</td>\n",
       "      <td>What is the step by step guide to invest in share market?</td>\n",
       "      <td>0</td>\n",
       "    </tr>\n",
       "    <tr>\n",
       "      <th>1</th>\n",
       "      <td>1</td>\n",
       "      <td>3</td>\n",
       "      <td>4</td>\n",
       "      <td>What is the story of Kohinoor (Koh-i-Noor) Diamond?</td>\n",
       "      <td>What would happen if the Indian government stole the Kohinoor (Koh-i-Noor) diamond back?</td>\n",
       "      <td>0</td>\n",
       "    </tr>\n",
       "    <tr>\n",
       "      <th>2</th>\n",
       "      <td>2</td>\n",
       "      <td>5</td>\n",
       "      <td>6</td>\n",
       "      <td>How can I increase the speed of my internet connection while using a VPN?</td>\n",
       "      <td>How can Internet speed be increased by hacking through DNS?</td>\n",
       "      <td>0</td>\n",
       "    </tr>\n",
       "    <tr>\n",
       "      <th>3</th>\n",
       "      <td>3</td>\n",
       "      <td>7</td>\n",
       "      <td>8</td>\n",
       "      <td>Why am I mentally very lonely? How can I solve it?</td>\n",
       "      <td>Find the remainder when [math]23^{24}[/math] is divided by 24,23?</td>\n",
       "      <td>0</td>\n",
       "    </tr>\n",
       "    <tr>\n",
       "      <th>4</th>\n",
       "      <td>4</td>\n",
       "      <td>9</td>\n",
       "      <td>10</td>\n",
       "      <td>Which one dissolve in water quikly sugar, salt, methane and carbon di oxide?</td>\n",
       "      <td>Which fish would survive in salt water?</td>\n",
       "      <td>0</td>\n",
       "    </tr>\n",
       "  </tbody>\n",
       "</table>\n",
       "</div>"
      ],
      "text/plain": [
       "   id  qid1  qid2  \\\n",
       "0   0     1     2   \n",
       "1   1     3     4   \n",
       "2   2     5     6   \n",
       "3   3     7     8   \n",
       "4   4     9    10   \n",
       "\n",
       "                                                                      question1  \\\n",
       "0            What is the step by step guide to invest in share market in india?   \n",
       "1                           What is the story of Kohinoor (Koh-i-Noor) Diamond?   \n",
       "2     How can I increase the speed of my internet connection while using a VPN?   \n",
       "3                            Why am I mentally very lonely? How can I solve it?   \n",
       "4  Which one dissolve in water quikly sugar, salt, methane and carbon di oxide?   \n",
       "\n",
       "                                                                                  question2  \\\n",
       "0                                 What is the step by step guide to invest in share market?   \n",
       "1  What would happen if the Indian government stole the Kohinoor (Koh-i-Noor) diamond back?   \n",
       "2                               How can Internet speed be increased by hacking through DNS?   \n",
       "3                         Find the remainder when [math]23^{24}[/math] is divided by 24,23?   \n",
       "4                                                   Which fish would survive in salt water?   \n",
       "\n",
       "   is_duplicate  \n",
       "0             0  \n",
       "1             0  \n",
       "2             0  \n",
       "3             0  \n",
       "4             0  "
      ]
     },
     "execution_count": 3,
     "metadata": {},
     "output_type": "execute_result"
    }
   ],
   "source": [
    "df.head()"
   ]
  },
  {
   "cell_type": "code",
   "execution_count": 4,
   "metadata": {},
   "outputs": [
    {
     "data": {
      "text/plain": [
       "(404290, 6)"
      ]
     },
     "execution_count": 4,
     "metadata": {},
     "output_type": "execute_result"
    }
   ],
   "source": [
    "df.shape"
   ]
  },
  {
   "cell_type": "code",
   "execution_count": 5,
   "metadata": {},
   "outputs": [
    {
     "data": {
      "image/png": "[encoded data removed]",
      "text/plain": [
       "<Figure size 432x288 with 1 Axes>"
      ]
     },
     "metadata": {},
     "output_type": "display_data"
    }
   ],
   "source": [
    "df.is_duplicate.value_counts().plot(kind='pie', autopct='%1.2f%%')\n",
    "plt.axis('equal')\n",
    "plt.show()"
   ]
  },
  {
   "cell_type": "code",
   "execution_count": 6,
   "metadata": {},
   "outputs": [],
   "source": [
    "df_all_question = pd.DataFrame(pd.concat([df.question1, df.question2])).reset_index(drop=True)\n",
    "df_all_question.columns = ['questions']"
   ]
  },
  {
   "cell_type": "code",
   "execution_count": 7,
   "metadata": {},
   "outputs": [],
   "source": [
    "df_all_question['word_count'] = df_all_question['questions'].apply(lambda x : len(str(x).split()))\n",
    "df_all_question['character_count'] = df_all_question['questions'].apply(lambda x : len(str(x)))"
   ]
  },
  {
   "cell_type": "code",
   "execution_count": 8,
   "metadata": {},
   "outputs": [],
   "source": [
    "word_distribution = df_all_question['word_count'].value_counts()\n",
    "character_distribution = df_all_question['character_count'].value_counts()"
   ]
  },
  {
   "cell_type": "code",
   "execution_count": 10,
   "metadata": {},
   "outputs": [
    {
     "data": {
      "text/html": [
       "<div>\n",
       "<style scoped>\n",
       "    .dataframe tbody tr th:only-of-type {\n",
       "        vertical-align: middle;\n",
       "    }\n",
       "\n",
       "    .dataframe tbody tr th {\n",
       "        vertical-align: top;\n",
       "    }\n",
       "\n",
       "    .dataframe thead th {\n",
       "        text-align: right;\n",
       "    }\n",
       "</style>\n",
       "<table border=\"1\" class=\"dataframe\">\n",
       "  <thead>\n",
       "    <tr style=\"text-align: right;\">\n",
       "      <th></th>\n",
       "      <th>word_count</th>\n",
       "      <th>character_count</th>\n",
       "    </tr>\n",
       "  </thead>\n",
       "  <tbody>\n",
       "    <tr>\n",
       "      <th>count</th>\n",
       "      <td>808580.000000</td>\n",
       "      <td>808580.000000</td>\n",
       "    </tr>\n",
       "    <tr>\n",
       "      <th>mean</th>\n",
       "      <td>11.062100</td>\n",
       "      <td>59.822548</td>\n",
       "    </tr>\n",
       "    <tr>\n",
       "      <th>std</th>\n",
       "      <td>5.884595</td>\n",
       "      <td>31.963751</td>\n",
       "    </tr>\n",
       "    <tr>\n",
       "      <th>min</th>\n",
       "      <td>1.000000</td>\n",
       "      <td>1.000000</td>\n",
       "    </tr>\n",
       "    <tr>\n",
       "      <th>25%</th>\n",
       "      <td>7.000000</td>\n",
       "      <td>39.000000</td>\n",
       "    </tr>\n",
       "    <tr>\n",
       "      <th>50%</th>\n",
       "      <td>10.000000</td>\n",
       "      <td>51.000000</td>\n",
       "    </tr>\n",
       "    <tr>\n",
       "      <th>75%</th>\n",
       "      <td>13.000000</td>\n",
       "      <td>72.000000</td>\n",
       "    </tr>\n",
       "    <tr>\n",
       "      <th>max</th>\n",
       "      <td>237.000000</td>\n",
       "      <td>1169.000000</td>\n",
       "    </tr>\n",
       "  </tbody>\n",
       "</table>\n",
       "</div>"
      ],
      "text/plain": [
       "          word_count  character_count\n",
       "count  808580.000000    808580.000000\n",
       "mean       11.062100        59.822548\n",
       "std         5.884595        31.963751\n",
       "min         1.000000         1.000000\n",
       "25%         7.000000        39.000000\n",
       "50%        10.000000        51.000000\n",
       "75%        13.000000        72.000000\n",
       "max       237.000000      1169.000000"
      ]
     },
     "execution_count": 10,
     "metadata": {},
     "output_type": "execute_result"
    }
   ],
   "source": [
    "df_all_question[['word_count', 'character_count']].describe()"
   ]
  },
  {
   "cell_type": "code",
   "execution_count": 11,
   "metadata": {},
   "outputs": [
    {
     "data": {
      "image/png": "[encoded data removed]",
      "text/plain": [
       "<Figure size 1800x720 with 1 Axes>"
      ]
     },
     "metadata": {
      "needs_background": "light"
     },
     "output_type": "display_data"
    }
   ],
   "source": [
    "plt.subplots(figsize = (25,10))\n",
    "sns.barplot(x = word_distribution.index, y = word_distribution.values)\n",
    "plt.title('Distribution of word counts')\n",
    "plt.ylabel('# of Occurrences', fontsize=12)\n",
    "plt.xlabel('word counts in the question', fontsize=7)\n",
    "plt.show()"
   ]
  },
  {
   "cell_type": "code",
   "execution_count": 12,
   "metadata": {},
   "outputs": [
    {
     "data": {
      "image/png": "[encoded data removed]",
      "text/plain": [
       "<Figure size 1800x720 with 1 Axes>"
      ]
     },
     "metadata": {
      "needs_background": "light"
     },
     "output_type": "display_data"
    }
   ],
   "source": [
    "fig,ax = plt.subplots(figsize = (25,10))\n",
    "sns.barplot(x = character_distribution.index, y = character_distribution.values, ax=ax)\n",
    "\n",
    "# ax.set_xticks(character_distribution.index) # <--- set the ticks first\n",
    "# ax.set_xticklabels(np.arange(min(character_distribution.index), max(character_distribution.index)+1, 100))\n",
    "plt.title('Distribution of character counts')\n",
    "plt.ylabel('# of Occurrences', fontsize=12)\n",
    "plt.xlabel('character counts in the question', fontsize=7)\n",
    "# plt.xticks(np.arange(min(character_distribution.index), max(character_distribution.index)+1, 100))\n",
    "plt.show()"
   ]
  },
  {
   "cell_type": "code",
   "execution_count": 13,
   "metadata": {},
   "outputs": [],
   "source": [
    "df_clean = df[(df.question1.str.len() >9) & (df.question2.str.len() >9)]"
   ]
  },
  {
   "cell_type": "code",
   "execution_count": 14,
   "metadata": {},
   "outputs": [
    {
     "name": "stderr",
     "output_type": "stream",
     "text": [
      "<ipython-input-14-27a40e693619>:77: SettingWithCopyWarning: \n",
      "A value is trying to be set on a copy of a slice from a DataFrame.\n",
      "Try using .loc[row_indexer,col_indexer] = value instead\n",
      "\n",
      "See the caveats in the documentation: https://pandas.pydata.org/pandas-docs/stable/user_guide/indexing.html#returning-a-view-versus-a-copy\n",
      "  df_clean['question1'] = [cleaning(s) for s in df_clean['question1']]\n",
      "<ipython-input-14-27a40e693619>:78: SettingWithCopyWarning: \n",
      "A value is trying to be set on a copy of a slice from a DataFrame.\n",
      "Try using .loc[row_indexer,col_indexer] = value instead\n",
      "\n",
      "See the caveats in the documentation: https://pandas.pydata.org/pandas-docs/stable/user_guide/indexing.html#returning-a-view-versus-a-copy\n",
      "  df_clean['question2'] = [cleaning(s) for s in df_clean['question2']]\n"
     ]
    }
   ],
   "source": [
    "def cleaning(s):\n",
    "    s = str(s)\n",
    "    s = s.lower()\n",
    "    s = re.sub('\\s\\W',' ',s)\n",
    "    s = re.sub('\\W,\\s',' ',s)\n",
    "    s = re.sub(r'[^\\w]', ' ', s)\n",
    "    s = re.sub(\"\\d+\", \"\", s)\n",
    "    s = re.sub('\\s+',' ',s)\n",
    "    s = re.sub('[!@#$_\\?]', '', s)\n",
    "    s = s.replace(\"co\",\"\")\n",
    "    s = s.replace(\"https\",\"\")\n",
    "    s = s.replace(\",\",\"\")\n",
    "    s = s.replace(\"[\\w*\",\" \")\n",
    "    s = re.sub(r\"[^A-Za-z0-9^,!.\\/'+-=]\", \" \", s)\n",
    "    s = re.sub(r\"what's\", \"what is \", s)\n",
    "    s = re.sub(r\"\\'s\", \" \", s)\n",
    "    s = re.sub(r\"\\'ve\", \" have \", s)\n",
    "    s = re.sub(r\"can't\", \"cannot \", s)\n",
    "    s = re.sub(r\"n't\", \" not \", s)\n",
    "    s = re.sub(r\"i'm\", \"i am \", s)\n",
    "    s = re.sub(r\"\\'re\", \" are \", s)\n",
    "    s = re.sub(r\"\\'d\", \" would \", s)\n",
    "    s = re.sub(r\"\\'ll\", \" will \", s)\n",
    "    s = re.sub(r\",\", \" \", s)\n",
    "    s = re.sub(r\"\\.\", \" \", s)\n",
    "    s = re.sub(r\"!\", \" ! \", s)\n",
    "    s = re.sub(r\"\\/\", \" \", s)\n",
    "    s = re.sub(r\"\\^\", \" ^ \", s)\n",
    "    s = re.sub(r\"\\+\", \" + \", s)\n",
    "    s = re.sub(r\"\\-\", \" - \", s)\n",
    "    s = re.sub(r\"\\=\", \" = \", s)\n",
    "    s = re.sub(r\"'\", \" \", s)\n",
    "    s = re.sub(r\"(\\d+)(k)\", r\"\\g<1>000\", s)\n",
    "    s = re.sub(r\":\", \" : \", s)\n",
    "    s = re.sub(r\" e g \", \" eg \", s)\n",
    "    s = re.sub(r\" b g \", \" bg \", s)\n",
    "    s = re.sub(r\" u s \", \" american \", s)\n",
    "    s = re.sub(r\"\\0s\", \"0\", s)\n",
    "    s = re.sub(r\" 9 11 \", \"911\", s)\n",
    "    s = re.sub(r\"e - mail\", \"email\", s)\n",
    "    s = re.sub(r\"j k\", \"jk\", s)\n",
    "    s = re.sub(r\"\\s{2,}\", \" \", s)\n",
    "    s = re.sub(r\"what's\", \"\", s)\n",
    "    s = re.sub(r\"\\'s\", \" \", s)\n",
    "    s = re.sub(r\"\\'ve\", \" have \", s)\n",
    "    s = re.sub(r\"can't\", \"cannot \", s)\n",
    "    s = re.sub(r\"n't\", \" not \", s)\n",
    "    s = re.sub(r\" m \", \" am \", s)\n",
    "    s = re.sub(r\"\\'re\", \" are \", s)\n",
    "    s = re.sub(r\"\\'d\", \" would \", s)\n",
    "    s = re.sub(r\"60k\", \" 60000 \", s)\n",
    "    s = re.sub(r\"\\0s\", \"0\", s)\n",
    "    s = re.sub(r\"e-mail\", \"email\", s)\n",
    "    s = re.sub(r\"\\s{2,}\", \" \", s)\n",
    "    s = re.sub(r\"quikly\", \"quickly\", s)\n",
    "    s = re.sub(r\" usa \", \" america \", s)\n",
    "    s = re.sub(r\" uk \", \" england \", s)\n",
    "    s = re.sub(r\"imrovement\", \"improvement\", s)\n",
    "    s = re.sub(r\"intially\", \"initially\", s)\n",
    "    s = re.sub(r\" dms \", \"direct messages \", s)  \n",
    "    s = re.sub(r\"demonitization\", \"demonetization\", s) \n",
    "    s = re.sub(r\"actived\", \"active\", s)\n",
    "    s = re.sub(r\"kms\", \" kilometers \", s)\n",
    "    s = re.sub(r\" cs \", \" computer science \", s) \n",
    "    s = re.sub(r\" upvotes \", \" up votes \", s)\n",
    "    s = re.sub(r\" iPhone \", \" phone \", s)\n",
    "    s = re.sub(r\"\\0rs \", \" rs \", s) \n",
    "    s = re.sub(r\"calender\", \"calendar\", s)\n",
    "    s = re.sub(r\"ios\", \"operating system\", s)\n",
    "    s = re.sub(r\"gps\", \"GPS\", s)\n",
    "    s = re.sub(r\"gst\", \"GST\", s)\n",
    "    s = re.sub(r\"programing\", \"programming\", s)\n",
    "    s = re.sub(r\"bestfriend\", \"best friend\", s)\n",
    "    s = re.sub(r\"III\", \"3\", s) \n",
    "    s = re.sub(r\"the us\", \"america\", s)\n",
    "    return s\n",
    "df_clean['question1'] = [cleaning(s) for s in df_clean['question1']]\n",
    "df_clean['question2'] = [cleaning(s) for s in df_clean['question2']]"
   ]
  },
  {
   "cell_type": "code",
   "execution_count": 15,
   "metadata": {},
   "outputs": [
    {
     "name": "stdout",
     "output_type": "stream",
     "text": [
      "Total number of  Unique Questions are: 537795\n",
      "\n",
      "Number of unique questions that appear more than one time: 111741 (20.777619724988146%)\n",
      "\n",
      "Max number of times a single question is repeated: 157\n",
      "\n"
     ]
    }
   ],
   "source": [
    "qids = pd.Series(df_clean['qid1'].tolist() + df_clean['qid2'].tolist()) #adding two lists [1,2,3,4] + [2,3,4] gives [1,2,3,4,2,3,4]\n",
    "unique_qs = len(np.unique(qids))\n",
    "qs_morethan_onetime = np.sum(qids.value_counts() > 1)\n",
    "print ('Total number of  Unique Questions are: {}\\n'.format(unique_qs))\n",
    "#print len(np.unique(qids))\n",
    "\n",
    "print ('Number of unique questions that appear more than one time: {} ({}%)\\n'.format(qs_morethan_onetime,qs_morethan_onetime/unique_qs*100))\n",
    "\n",
    "print ('Max number of times a single question is repeated: {}\\n'.format(max(qids.value_counts()))) \n",
    "\n",
    "q_vals=qids.value_counts()\n",
    "\n",
    "q_vals=q_vals.values"
   ]
  },
  {
   "cell_type": "code",
   "execution_count": 16,
   "metadata": {},
   "outputs": [
    {
     "data": {
      "image/png": "[encoded data removed]",
      "text/plain": [
       "<Figure size 720x432 with 1 Axes>"
      ]
     },
     "metadata": {
      "needs_background": "light"
     },
     "output_type": "display_data"
    }
   ],
   "source": [
    "x = [\"unique_questions\" , \"Repeated Questions\"]\n",
    "y =  [unique_qs , qs_morethan_onetime]\n",
    "\n",
    "\n",
    "\n",
    "fig,ax = plt.subplots(figsize=(10, 6))\n",
    "plt.title (\"Plot representing unique and repeated questions  \")\n",
    "sns.barplot(x,y, ax=ax)\n",
    "\n",
    "for index, row in enumerate(y):\n",
    "    ax.text(index,row+5000, row, color='black', ha=\"center\")\n",
    "\n",
    "plt.show()"
   ]
  },
  {
   "cell_type": "code",
   "execution_count": 17,
   "metadata": {},
   "outputs": [
    {
     "name": "stdout",
     "output_type": "stream",
     "text": [
      "Maximum number of times a single question is repeated: 157\n",
      "\n"
     ]
    },
    {
     "data": {
      "image/png": "[encoded data removed]",
      "text/plain": [
       "<Figure size 1440x720 with 1 Axes>"
      ]
     },
     "metadata": {
      "needs_background": "light"
     },
     "output_type": "display_data"
    }
   ],
   "source": [
    "plt.figure(figsize=(20, 10))\n",
    "\n",
    "plt.hist(qids.value_counts(), bins=160)\n",
    "\n",
    "plt.yscale('log', nonposy='clip')\n",
    "\n",
    "plt.title('Log-Histogram of question appearance counts')\n",
    "\n",
    "plt.xlabel('Number of occurences of question')\n",
    "\n",
    "plt.ylabel('Number of questions')\n",
    "\n",
    "print ('Maximum number of times a single question is repeated: {}\\n'.format(max(qids.value_counts()))) "
   ]
  },
  {
   "cell_type": "code",
   "execution_count": 19,
   "metadata": {},
   "outputs": [],
   "source": [
    "def get_unigram(question):\n",
    "    return [word for word in word_tokenize(question.lower()) if word not in stop_words]"
   ]
  },
  {
   "cell_type": "code",
   "execution_count": 20,
   "metadata": {},
   "outputs": [
    {
     "name": "stderr",
     "output_type": "stream",
     "text": [
      "<ipython-input-20-1d5888ff064d>:1: SettingWithCopyWarning: \n",
      "A value is trying to be set on a copy of a slice from a DataFrame.\n",
      "Try using .loc[row_indexer,col_indexer] = value instead\n",
      "\n",
      "See the caveats in the documentation: https://pandas.pydata.org/pandas-docs/stable/user_guide/indexing.html#returning-a-view-versus-a-copy\n",
      "  df_clean['unigram_ques1'] = df_clean['question1'].apply(lambda x : list(set(get_unigram(str(x)))))\n",
      "<ipython-input-20-1d5888ff064d>:2: SettingWithCopyWarning: \n",
      "A value is trying to be set on a copy of a slice from a DataFrame.\n",
      "Try using .loc[row_indexer,col_indexer] = value instead\n",
      "\n",
      "See the caveats in the documentation: https://pandas.pydata.org/pandas-docs/stable/user_guide/indexing.html#returning-a-view-versus-a-copy\n",
      "  df_clean['unigram_ques2'] = df_clean['question2'].apply(lambda x : list(set(get_unigram(str(x)))))\n"
     ]
    }
   ],
   "source": [
    "df_clean['unigram_ques1'] = df_clean['question1'].apply(lambda x : list(set(get_unigram(str(x)))))\n",
    "df_clean['unigram_ques2'] = df_clean['question2'].apply(lambda x : list(set(get_unigram(str(x)))))"
   ]
  },
  {
   "cell_type": "code",
   "execution_count": 21,
   "metadata": {},
   "outputs": [
    {
     "name": "stderr",
     "output_type": "stream",
     "text": [
      "<ipython-input-21-5fe336ed6076>:1: SettingWithCopyWarning: \n",
      "A value is trying to be set on a copy of a slice from a DataFrame.\n",
      "Try using .loc[row_indexer,col_indexer] = value instead\n",
      "\n",
      "See the caveats in the documentation: https://pandas.pydata.org/pandas-docs/stable/user_guide/indexing.html#returning-a-view-versus-a-copy\n",
      "  df_clean['q1len'] = df_clean['question1'].str.len()\n",
      "<ipython-input-21-5fe336ed6076>:2: SettingWithCopyWarning: \n",
      "A value is trying to be set on a copy of a slice from a DataFrame.\n",
      "Try using .loc[row_indexer,col_indexer] = value instead\n",
      "\n",
      "See the caveats in the documentation: https://pandas.pydata.org/pandas-docs/stable/user_guide/indexing.html#returning-a-view-versus-a-copy\n",
      "  df_clean['q2len'] = df_clean['question2'].str.len()\n",
      "<ipython-input-21-5fe336ed6076>:3: SettingWithCopyWarning: \n",
      "A value is trying to be set on a copy of a slice from a DataFrame.\n",
      "Try using .loc[row_indexer,col_indexer] = value instead\n",
      "\n",
      "See the caveats in the documentation: https://pandas.pydata.org/pandas-docs/stable/user_guide/indexing.html#returning-a-view-versus-a-copy\n",
      "  df_clean['q1_n_words'] = df_clean['question1'].apply(lambda row: len(row.split(\" \")))\n",
      "<ipython-input-21-5fe336ed6076>:4: SettingWithCopyWarning: \n",
      "A value is trying to be set on a copy of a slice from a DataFrame.\n",
      "Try using .loc[row_indexer,col_indexer] = value instead\n",
      "\n",
      "See the caveats in the documentation: https://pandas.pydata.org/pandas-docs/stable/user_guide/indexing.html#returning-a-view-versus-a-copy\n",
      "  df_clean['q2_n_words'] = df_clean['question2'].apply(lambda row: len(row.split(\" \")))\n"
     ]
    }
   ],
   "source": [
    "df_clean['q1len'] = df_clean['question1'].str.len() \n",
    "df_clean['q2len'] = df_clean['question2'].str.len()\n",
    "df_clean['q1_n_words'] = df_clean['question1'].apply(lambda row: len(row.split(\" \")))\n",
    "df_clean['q2_n_words'] = df_clean['question2'].apply(lambda row: len(row.split(\" \")))"
   ]
  },
  {
   "cell_type": "code",
   "execution_count": 22,
   "metadata": {},
   "outputs": [
    {
     "data": {
      "text/html": [
       "<div>\n",
       "<style scoped>\n",
       "    .dataframe tbody tr th:only-of-type {\n",
       "        vertical-align: middle;\n",
       "    }\n",
       "\n",
       "    .dataframe tbody tr th {\n",
       "        vertical-align: top;\n",
       "    }\n",
       "\n",
       "    .dataframe thead th {\n",
       "        text-align: right;\n",
       "    }\n",
       "</style>\n",
       "<table border=\"1\" class=\"dataframe\">\n",
       "  <thead>\n",
       "    <tr style=\"text-align: right;\">\n",
       "      <th></th>\n",
       "      <th>id</th>\n",
       "      <th>qid1</th>\n",
       "      <th>qid2</th>\n",
       "      <th>question1</th>\n",
       "      <th>question2</th>\n",
       "      <th>is_duplicate</th>\n",
       "      <th>unigram_ques1</th>\n",
       "      <th>unigram_ques2</th>\n",
       "      <th>q1len</th>\n",
       "      <th>q2len</th>\n",
       "      <th>q1_n_words</th>\n",
       "      <th>q2_n_words</th>\n",
       "    </tr>\n",
       "  </thead>\n",
       "  <tbody>\n",
       "    <tr>\n",
       "      <th>0</th>\n",
       "      <td>0</td>\n",
       "      <td>1</td>\n",
       "      <td>2</td>\n",
       "      <td>what is the step by step guide to invest in share market in india</td>\n",
       "      <td>what is the step by step guide to invest in share market</td>\n",
       "      <td>0</td>\n",
       "      <td>[guide, share, india, step, invest, market]</td>\n",
       "      <td>[guide, share, step, invest, market]</td>\n",
       "      <td>66</td>\n",
       "      <td>57</td>\n",
       "      <td>15</td>\n",
       "      <td>13</td>\n",
       "    </tr>\n",
       "    <tr>\n",
       "      <th>1</th>\n",
       "      <td>1</td>\n",
       "      <td>3</td>\n",
       "      <td>4</td>\n",
       "      <td>what is the story of kohinoor koh i noor diamond</td>\n",
       "      <td>what would happen if the indian government stole the kohinoor koh i noor diamond back</td>\n",
       "      <td>0</td>\n",
       "      <td>[kohinoor, diamond, story, koh, noor]</td>\n",
       "      <td>[kohinoor, diamond, indian, would, happen, government, koh, back, noor, stole]</td>\n",
       "      <td>49</td>\n",
       "      <td>86</td>\n",
       "      <td>11</td>\n",
       "      <td>16</td>\n",
       "    </tr>\n",
       "    <tr>\n",
       "      <th>2</th>\n",
       "      <td>2</td>\n",
       "      <td>5</td>\n",
       "      <td>6</td>\n",
       "      <td>how can i increase the speed of my internet nnection while using a vpn</td>\n",
       "      <td>how can internet speed be increased by hacking through dns</td>\n",
       "      <td>0</td>\n",
       "      <td>[increase, nnection, speed, vpn, internet, using]</td>\n",
       "      <td>[increased, speed, dns, internet, hacking]</td>\n",
       "      <td>71</td>\n",
       "      <td>59</td>\n",
       "      <td>15</td>\n",
       "      <td>11</td>\n",
       "    </tr>\n",
       "    <tr>\n",
       "      <th>3</th>\n",
       "      <td>3</td>\n",
       "      <td>7</td>\n",
       "      <td>8</td>\n",
       "      <td>why am i mentally very lonely how can i solve it</td>\n",
       "      <td>find the remainder when math math is divided by</td>\n",
       "      <td>0</td>\n",
       "      <td>[lonely, solve, mentally]</td>\n",
       "      <td>[divided, find, math, remainder]</td>\n",
       "      <td>49</td>\n",
       "      <td>48</td>\n",
       "      <td>12</td>\n",
       "      <td>10</td>\n",
       "    </tr>\n",
       "    <tr>\n",
       "      <th>4</th>\n",
       "      <td>4</td>\n",
       "      <td>9</td>\n",
       "      <td>10</td>\n",
       "      <td>which one dissolve in water quickly sugar salt methane and carbon di oxide</td>\n",
       "      <td>which fish would survive in salt water</td>\n",
       "      <td>0</td>\n",
       "      <td>[one, methane, sugar, carbon, oxide, di, salt, dissolve, water, quickly]</td>\n",
       "      <td>[fish, would, survive, salt, water]</td>\n",
       "      <td>75</td>\n",
       "      <td>39</td>\n",
       "      <td>14</td>\n",
       "      <td>8</td>\n",
       "    </tr>\n",
       "  </tbody>\n",
       "</table>\n",
       "</div>"
      ],
      "text/plain": [
       "   id  qid1  qid2  \\\n",
       "0   0     1     2   \n",
       "1   1     3     4   \n",
       "2   2     5     6   \n",
       "3   3     7     8   \n",
       "4   4     9    10   \n",
       "\n",
       "                                                                     question1  \\\n",
       "0           what is the step by step guide to invest in share market in india    \n",
       "1                            what is the story of kohinoor koh i noor diamond    \n",
       "2      how can i increase the speed of my internet nnection while using a vpn    \n",
       "3                            why am i mentally very lonely how can i solve it    \n",
       "4  which one dissolve in water quickly sugar salt methane and carbon di oxide    \n",
       "\n",
       "                                                                                question2  \\\n",
       "0                               what is the step by step guide to invest in share market    \n",
       "1  what would happen if the indian government stole the kohinoor koh i noor diamond back    \n",
       "2                             how can internet speed be increased by hacking through dns    \n",
       "3                                        find the remainder when math math is divided by    \n",
       "4                                                 which fish would survive in salt water    \n",
       "\n",
       "   is_duplicate  \\\n",
       "0             0   \n",
       "1             0   \n",
       "2             0   \n",
       "3             0   \n",
       "4             0   \n",
       "\n",
       "                                                              unigram_ques1  \\\n",
       "0                               [guide, share, india, step, invest, market]   \n",
       "1                                     [kohinoor, diamond, story, koh, noor]   \n",
       "2                         [increase, nnection, speed, vpn, internet, using]   \n",
       "3                                                 [lonely, solve, mentally]   \n",
       "4  [one, methane, sugar, carbon, oxide, di, salt, dissolve, water, quickly]   \n",
       "\n",
       "                                                                    unigram_ques2  \\\n",
       "0                                            [guide, share, step, invest, market]   \n",
       "1  [kohinoor, diamond, indian, would, happen, government, koh, back, noor, stole]   \n",
       "2                                      [increased, speed, dns, internet, hacking]   \n",
       "3                                                [divided, find, math, remainder]   \n",
       "4                                             [fish, would, survive, salt, water]   \n",
       "\n",
       "   q1len  q2len  q1_n_words  q2_n_words  \n",
       "0     66     57          15          13  \n",
       "1     49     86          11          16  \n",
       "2     71     59          15          11  \n",
       "3     49     48          12          10  \n",
       "4     75     39          14           8  "
      ]
     },
     "execution_count": 22,
     "metadata": {},
     "output_type": "execute_result"
    }
   ],
   "source": [
    "df_clean.head()"
   ]
  },
  {
   "cell_type": "code",
   "execution_count": 25,
   "metadata": {},
   "outputs": [
    {
     "data": {
      "text/html": [
       "<div>\n",
       "<style scoped>\n",
       "    .dataframe tbody tr th:only-of-type {\n",
       "        vertical-align: middle;\n",
       "    }\n",
       "\n",
       "    .dataframe tbody tr th {\n",
       "        vertical-align: top;\n",
       "    }\n",
       "\n",
       "    .dataframe thead th {\n",
       "        text-align: right;\n",
       "    }\n",
       "</style>\n",
       "<table border=\"1\" class=\"dataframe\">\n",
       "  <thead>\n",
       "    <tr style=\"text-align: right;\">\n",
       "      <th></th>\n",
       "      <th>id</th>\n",
       "      <th>qid1</th>\n",
       "      <th>qid2</th>\n",
       "      <th>question1</th>\n",
       "      <th>question2</th>\n",
       "      <th>is_duplicate</th>\n",
       "      <th>unigram_ques1</th>\n",
       "      <th>unigram_ques2</th>\n",
       "      <th>q1len</th>\n",
       "      <th>q2len</th>\n",
       "      <th>q1_n_words</th>\n",
       "      <th>q2_n_words</th>\n",
       "    </tr>\n",
       "  </thead>\n",
       "  <tbody>\n",
       "    <tr>\n",
       "      <th>918</th>\n",
       "      <td>918</td>\n",
       "      <td>1831</td>\n",
       "      <td>1832</td>\n",
       "      <td>i am what should i do</td>\n",
       "      <td>what can i do when i am</td>\n",
       "      <td>1</td>\n",
       "      <td>[]</td>\n",
       "      <td>[]</td>\n",
       "      <td>22</td>\n",
       "      <td>24</td>\n",
       "      <td>7</td>\n",
       "      <td>8</td>\n",
       "    </tr>\n",
       "    <tr>\n",
       "      <th>1510</th>\n",
       "      <td>1510</td>\n",
       "      <td>3007</td>\n",
       "      <td>3008</td>\n",
       "      <td>if and what is</td>\n",
       "      <td>why can i not multiply fractions in python</td>\n",
       "      <td>0</td>\n",
       "      <td>[]</td>\n",
       "      <td>[python, fractions, multiply]</td>\n",
       "      <td>15</td>\n",
       "      <td>43</td>\n",
       "      <td>5</td>\n",
       "      <td>9</td>\n",
       "    </tr>\n",
       "    <tr>\n",
       "      <th>7120</th>\n",
       "      <td>7120</td>\n",
       "      <td>13921</td>\n",
       "      <td>13922</td>\n",
       "      <td>is it proper to use a mma after saying thank you</td>\n",
       "      <td>what is here and not there</td>\n",
       "      <td>0</td>\n",
       "      <td>[use, thank, mma, saying, proper]</td>\n",
       "      <td>[]</td>\n",
       "      <td>49</td>\n",
       "      <td>27</td>\n",
       "      <td>12</td>\n",
       "      <td>7</td>\n",
       "    </tr>\n",
       "    <tr>\n",
       "      <th>7368</th>\n",
       "      <td>7368</td>\n",
       "      <td>14396</td>\n",
       "      <td>14397</td>\n",
       "      <td>what is</td>\n",
       "      <td>what is</td>\n",
       "      <td>0</td>\n",
       "      <td>[]</td>\n",
       "      <td>[]</td>\n",
       "      <td>8</td>\n",
       "      <td>8</td>\n",
       "      <td>3</td>\n",
       "      <td>3</td>\n",
       "    </tr>\n",
       "    <tr>\n",
       "      <th>7820</th>\n",
       "      <td>7820</td>\n",
       "      <td>15264</td>\n",
       "      <td>15265</td>\n",
       "      <td>why and how is</td>\n",
       "      <td>why is equal to</td>\n",
       "      <td>1</td>\n",
       "      <td>[]</td>\n",
       "      <td>[equal]</td>\n",
       "      <td>15</td>\n",
       "      <td>16</td>\n",
       "      <td>5</td>\n",
       "      <td>5</td>\n",
       "    </tr>\n",
       "    <tr>\n",
       "      <th>...</th>\n",
       "      <td>...</td>\n",
       "      <td>...</td>\n",
       "      <td>...</td>\n",
       "      <td>...</td>\n",
       "      <td>...</td>\n",
       "      <td>...</td>\n",
       "      <td>...</td>\n",
       "      <td>...</td>\n",
       "      <td>...</td>\n",
       "      <td>...</td>\n",
       "      <td>...</td>\n",
       "      <td>...</td>\n",
       "    </tr>\n",
       "    <tr>\n",
       "      <th>395737</th>\n",
       "      <td>395737</td>\n",
       "      <td>99189</td>\n",
       "      <td>92105</td>\n",
       "      <td>can we prove</td>\n",
       "      <td>how is</td>\n",
       "      <td>1</td>\n",
       "      <td>[prove]</td>\n",
       "      <td>[]</td>\n",
       "      <td>13</td>\n",
       "      <td>7</td>\n",
       "      <td>4</td>\n",
       "      <td>3</td>\n",
       "    </tr>\n",
       "    <tr>\n",
       "      <th>400030</th>\n",
       "      <td>400030</td>\n",
       "      <td>533354</td>\n",
       "      <td>533355</td>\n",
       "      <td>can i teach my self intermediate algebra in months</td>\n",
       "      <td>if than</td>\n",
       "      <td>0</td>\n",
       "      <td>[teach, self, months, intermediate, algebra]</td>\n",
       "      <td>[]</td>\n",
       "      <td>51</td>\n",
       "      <td>8</td>\n",
       "      <td>10</td>\n",
       "      <td>3</td>\n",
       "    </tr>\n",
       "    <tr>\n",
       "      <th>400269</th>\n",
       "      <td>400269</td>\n",
       "      <td>95567</td>\n",
       "      <td>533614</td>\n",
       "      <td>what is</td>\n",
       "      <td>if i what will i i do to i</td>\n",
       "      <td>0</td>\n",
       "      <td>[]</td>\n",
       "      <td>[]</td>\n",
       "      <td>8</td>\n",
       "      <td>27</td>\n",
       "      <td>3</td>\n",
       "      <td>10</td>\n",
       "    </tr>\n",
       "    <tr>\n",
       "      <th>401878</th>\n",
       "      <td>401878</td>\n",
       "      <td>182142</td>\n",
       "      <td>535325</td>\n",
       "      <td>what is is it one zero or infinity</td>\n",
       "      <td>what is</td>\n",
       "      <td>0</td>\n",
       "      <td>[one, infinity, zero]</td>\n",
       "      <td>[]</td>\n",
       "      <td>35</td>\n",
       "      <td>8</td>\n",
       "      <td>9</td>\n",
       "      <td>3</td>\n",
       "    </tr>\n",
       "    <tr>\n",
       "      <th>404287</th>\n",
       "      <td>404287</td>\n",
       "      <td>537928</td>\n",
       "      <td>537929</td>\n",
       "      <td>what is one in</td>\n",
       "      <td>what s this in</td>\n",
       "      <td>0</td>\n",
       "      <td>[one]</td>\n",
       "      <td>[]</td>\n",
       "      <td>15</td>\n",
       "      <td>15</td>\n",
       "      <td>5</td>\n",
       "      <td>5</td>\n",
       "    </tr>\n",
       "  </tbody>\n",
       "</table>\n",
       "<p>228 rows × 12 columns</p>\n",
       "</div>"
      ],
      "text/plain": [
       "            id    qid1    qid2  \\\n",
       "918        918    1831    1832   \n",
       "1510      1510    3007    3008   \n",
       "7120      7120   13921   13922   \n",
       "7368      7368   14396   14397   \n",
       "7820      7820   15264   15265   \n",
       "...        ...     ...     ...   \n",
       "395737  395737   99189   92105   \n",
       "400030  400030  533354  533355   \n",
       "400269  400269   95567  533614   \n",
       "401878  401878  182142  535325   \n",
       "404287  404287  537928  537929   \n",
       "\n",
       "                                                  question1  \\\n",
       "918                                  i am what should i do    \n",
       "1510                                        if and what is    \n",
       "7120      is it proper to use a mma after saying thank you    \n",
       "7368                                               what is    \n",
       "7820                                        why and how is    \n",
       "...                                                     ...   \n",
       "395737                                        can we prove    \n",
       "400030  can i teach my self intermediate algebra in months    \n",
       "400269                                             what is    \n",
       "401878                  what is is it one zero or infinity    \n",
       "404287                                      what is one in    \n",
       "\n",
       "                                          question2  is_duplicate  \\\n",
       "918                        what can i do when i am              1   \n",
       "1510    why can i not multiply fractions in python              0   \n",
       "7120                    what is here and not there              0   \n",
       "7368                                       what is              0   \n",
       "7820                               why is equal to              1   \n",
       "...                                             ...           ...   \n",
       "395737                                      how is              1   \n",
       "400030                                     if than              0   \n",
       "400269                  if i what will i i do to i              0   \n",
       "401878                                     what is              0   \n",
       "404287                              what s this in              0   \n",
       "\n",
       "                                       unigram_ques1  \\\n",
       "918                                               []   \n",
       "1510                                              []   \n",
       "7120               [use, thank, mma, saying, proper]   \n",
       "7368                                              []   \n",
       "7820                                              []   \n",
       "...                                              ...   \n",
       "395737                                       [prove]   \n",
       "400030  [teach, self, months, intermediate, algebra]   \n",
       "400269                                            []   \n",
       "401878                         [one, infinity, zero]   \n",
       "404287                                         [one]   \n",
       "\n",
       "                        unigram_ques2  q1len  q2len  q1_n_words  q2_n_words  \n",
       "918                                []     22     24           7           8  \n",
       "1510    [python, fractions, multiply]     15     43           5           9  \n",
       "7120                               []     49     27          12           7  \n",
       "7368                               []      8      8           3           3  \n",
       "7820                          [equal]     15     16           5           5  \n",
       "...                               ...    ...    ...         ...         ...  \n",
       "395737                             []     13      7           4           3  \n",
       "400030                             []     51      8          10           3  \n",
       "400269                             []      8     27           3          10  \n",
       "401878                             []     35      8           9           3  \n",
       "404287                             []     15     15           5           5  \n",
       "\n",
       "[228 rows x 12 columns]"
      ]
     },
     "execution_count": 25,
     "metadata": {},
     "output_type": "execute_result"
    }
   ],
   "source": [
    "df_clean[(df_clean['unigram_ques1'].apply(lambda x: len(x)) ==0) | (df_clean['unigram_ques2'].apply(lambda x: len(x)) ==0) ]"
   ]
  },
  {
   "cell_type": "code",
   "execution_count": 27,
   "metadata": {},
   "outputs": [],
   "source": [
    "def get_common_word_ratio(row):\n",
    "    return row['word_share'] / max(len(list(set((row['unigram_ques1'] + row['unigram_ques2'])))),1)\n",
    "\n",
    "def get_common_unigram(row):\n",
    "    return len(set(row['unigram_ques1']).intersection(set(row['unigram_ques2'])))"
   ]
  },
  {
   "cell_type": "code",
   "execution_count": 24,
   "metadata": {},
   "outputs": [],
   "source": [
    "df_clean2 = df_clean.drop(df_clean[(df_clean['unigram_ques1'].apply(lambda x: len(x)) ==0) | \n",
    "                                   (df_clean['unigram_ques2'].apply(lambda x: len(x)) ==0) ].index, axis=0)"
   ]
  },
  {
   "cell_type": "code",
   "execution_count": 28,
   "metadata": {},
   "outputs": [],
   "source": [
    "df_clean2['word_share'] = df_clean2.apply(lambda x : get_common_unigram(x), axis=1)"
   ]
  },
  {
   "cell_type": "code",
   "execution_count": 29,
   "metadata": {},
   "outputs": [],
   "source": [
    "df_clean2['common_word_ratio'] = df_clean2.apply(lambda x: get_common_word_ratio(x), axis =1)"
   ]
  },
  {
   "cell_type": "code",
   "execution_count": 30,
   "metadata": {},
   "outputs": [
    {
     "data": {
      "text/html": [
       "<div>\n",
       "<style scoped>\n",
       "    .dataframe tbody tr th:only-of-type {\n",
       "        vertical-align: middle;\n",
       "    }\n",
       "\n",
       "    .dataframe tbody tr th {\n",
       "        vertical-align: top;\n",
       "    }\n",
       "\n",
       "    .dataframe thead th {\n",
       "        text-align: right;\n",
       "    }\n",
       "</style>\n",
       "<table border=\"1\" class=\"dataframe\">\n",
       "  <thead>\n",
       "    <tr style=\"text-align: right;\">\n",
       "      <th></th>\n",
       "      <th>id</th>\n",
       "      <th>qid1</th>\n",
       "      <th>qid2</th>\n",
       "      <th>question1</th>\n",
       "      <th>question2</th>\n",
       "      <th>is_duplicate</th>\n",
       "      <th>unigram_ques1</th>\n",
       "      <th>unigram_ques2</th>\n",
       "      <th>q1len</th>\n",
       "      <th>q2len</th>\n",
       "      <th>q1_n_words</th>\n",
       "      <th>q2_n_words</th>\n",
       "      <th>word_share</th>\n",
       "      <th>common_word_ratio</th>\n",
       "    </tr>\n",
       "  </thead>\n",
       "  <tbody>\n",
       "    <tr>\n",
       "      <th>0</th>\n",
       "      <td>0</td>\n",
       "      <td>1</td>\n",
       "      <td>2</td>\n",
       "      <td>what is the step by step guide to invest in share market in india</td>\n",
       "      <td>what is the step by step guide to invest in share market</td>\n",
       "      <td>0</td>\n",
       "      <td>[guide, share, india, step, invest, market]</td>\n",
       "      <td>[guide, share, step, invest, market]</td>\n",
       "      <td>66</td>\n",
       "      <td>57</td>\n",
       "      <td>15</td>\n",
       "      <td>13</td>\n",
       "      <td>5</td>\n",
       "      <td>0.833333</td>\n",
       "    </tr>\n",
       "    <tr>\n",
       "      <th>1</th>\n",
       "      <td>1</td>\n",
       "      <td>3</td>\n",
       "      <td>4</td>\n",
       "      <td>what is the story of kohinoor koh i noor diamond</td>\n",
       "      <td>what would happen if the indian government stole the kohinoor koh i noor diamond back</td>\n",
       "      <td>0</td>\n",
       "      <td>[kohinoor, diamond, story, koh, noor]</td>\n",
       "      <td>[kohinoor, diamond, indian, would, happen, government, koh, back, noor, stole]</td>\n",
       "      <td>49</td>\n",
       "      <td>86</td>\n",
       "      <td>11</td>\n",
       "      <td>16</td>\n",
       "      <td>4</td>\n",
       "      <td>0.363636</td>\n",
       "    </tr>\n",
       "    <tr>\n",
       "      <th>2</th>\n",
       "      <td>2</td>\n",
       "      <td>5</td>\n",
       "      <td>6</td>\n",
       "      <td>how can i increase the speed of my internet nnection while using a vpn</td>\n",
       "      <td>how can internet speed be increased by hacking through dns</td>\n",
       "      <td>0</td>\n",
       "      <td>[increase, nnection, speed, vpn, internet, using]</td>\n",
       "      <td>[increased, speed, dns, internet, hacking]</td>\n",
       "      <td>71</td>\n",
       "      <td>59</td>\n",
       "      <td>15</td>\n",
       "      <td>11</td>\n",
       "      <td>2</td>\n",
       "      <td>0.222222</td>\n",
       "    </tr>\n",
       "    <tr>\n",
       "      <th>3</th>\n",
       "      <td>3</td>\n",
       "      <td>7</td>\n",
       "      <td>8</td>\n",
       "      <td>why am i mentally very lonely how can i solve it</td>\n",
       "      <td>find the remainder when math math is divided by</td>\n",
       "      <td>0</td>\n",
       "      <td>[lonely, solve, mentally]</td>\n",
       "      <td>[divided, find, math, remainder]</td>\n",
       "      <td>49</td>\n",
       "      <td>48</td>\n",
       "      <td>12</td>\n",
       "      <td>10</td>\n",
       "      <td>0</td>\n",
       "      <td>0.000000</td>\n",
       "    </tr>\n",
       "    <tr>\n",
       "      <th>4</th>\n",
       "      <td>4</td>\n",
       "      <td>9</td>\n",
       "      <td>10</td>\n",
       "      <td>which one dissolve in water quickly sugar salt methane and carbon di oxide</td>\n",
       "      <td>which fish would survive in salt water</td>\n",
       "      <td>0</td>\n",
       "      <td>[one, methane, sugar, carbon, oxide, di, salt, dissolve, water, quickly]</td>\n",
       "      <td>[fish, would, survive, salt, water]</td>\n",
       "      <td>75</td>\n",
       "      <td>39</td>\n",
       "      <td>14</td>\n",
       "      <td>8</td>\n",
       "      <td>2</td>\n",
       "      <td>0.153846</td>\n",
       "    </tr>\n",
       "  </tbody>\n",
       "</table>\n",
       "</div>"
      ],
      "text/plain": [
       "   id  qid1  qid2  \\\n",
       "0   0     1     2   \n",
       "1   1     3     4   \n",
       "2   2     5     6   \n",
       "3   3     7     8   \n",
       "4   4     9    10   \n",
       "\n",
       "                                                                     question1  \\\n",
       "0           what is the step by step guide to invest in share market in india    \n",
       "1                            what is the story of kohinoor koh i noor diamond    \n",
       "2      how can i increase the speed of my internet nnection while using a vpn    \n",
       "3                            why am i mentally very lonely how can i solve it    \n",
       "4  which one dissolve in water quickly sugar salt methane and carbon di oxide    \n",
       "\n",
       "                                                                                question2  \\\n",
       "0                               what is the step by step guide to invest in share market    \n",
       "1  what would happen if the indian government stole the kohinoor koh i noor diamond back    \n",
       "2                             how can internet speed be increased by hacking through dns    \n",
       "3                                        find the remainder when math math is divided by    \n",
       "4                                                 which fish would survive in salt water    \n",
       "\n",
       "   is_duplicate  \\\n",
       "0             0   \n",
       "1             0   \n",
       "2             0   \n",
       "3             0   \n",
       "4             0   \n",
       "\n",
       "                                                              unigram_ques1  \\\n",
       "0                               [guide, share, india, step, invest, market]   \n",
       "1                                     [kohinoor, diamond, story, koh, noor]   \n",
       "2                         [increase, nnection, speed, vpn, internet, using]   \n",
       "3                                                 [lonely, solve, mentally]   \n",
       "4  [one, methane, sugar, carbon, oxide, di, salt, dissolve, water, quickly]   \n",
       "\n",
       "                                                                    unigram_ques2  \\\n",
       "0                                            [guide, share, step, invest, market]   \n",
       "1  [kohinoor, diamond, indian, would, happen, government, koh, back, noor, stole]   \n",
       "2                                      [increased, speed, dns, internet, hacking]   \n",
       "3                                                [divided, find, math, remainder]   \n",
       "4                                             [fish, would, survive, salt, water]   \n",
       "\n",
       "   q1len  q2len  q1_n_words  q2_n_words  word_share  common_word_ratio  \n",
       "0     66     57          15          13           5           0.833333  \n",
       "1     49     86          11          16           4           0.363636  \n",
       "2     71     59          15          11           2           0.222222  \n",
       "3     49     48          12          10           0           0.000000  \n",
       "4     75     39          14           8           2           0.153846  "
      ]
     },
     "execution_count": 30,
     "metadata": {},
     "output_type": "execute_result"
    }
   ],
   "source": [
    "df_clean2.head()"
   ]
  },
  {
   "cell_type": "code",
   "execution_count": 31,
   "metadata": {},
   "outputs": [],
   "source": [
    "unigram_common_words = df_clean2['word_share'].value_counts()"
   ]
  },
  {
   "cell_type": "code",
   "execution_count": 32,
   "metadata": {},
   "outputs": [
    {
     "name": "stdout",
     "output_type": "stream",
     "text": [
      "0\n",
      "2.447967105328303\n",
      "23\n",
      "42399\n",
      "361557\n"
     ]
    }
   ],
   "source": [
    "print(df_clean2.word_share.min())\n",
    "print(df_clean2.word_share.mean())\n",
    "print(df_clean2.word_share.max())\n",
    "\n",
    "\n",
    "print(len(df_clean2[df_clean2.word_share==0]))\n",
    "print(len(df_clean2[df_clean2.word_share!=0]))"
   ]
  },
  {
   "cell_type": "code",
   "execution_count": 33,
   "metadata": {},
   "outputs": [
    {
     "data": {
      "image/png": "[encoded data removed]",
      "text/plain": [
       "<Figure size 1800x720 with 1 Axes>"
      ]
     },
     "metadata": {
      "needs_background": "light"
     },
     "output_type": "display_data"
    }
   ],
   "source": [
    "plt.subplots(figsize = (25,10))\n",
    "sns.barplot(unigram_common_words.index, unigram_common_words.values)\n",
    "plt.title('Distribution of common word count', fontsize = 12)\n",
    "plt.xlabel('common word counts in the question', fontsize=7)\n",
    "plt.show()"
   ]
  },
  {
   "cell_type": "code",
   "execution_count": 34,
   "metadata": {},
   "outputs": [
    {
     "data": {
      "image/png": "[encoded data removed]",
      "text/plain": [
       "<Figure size 1800x720 with 1 Axes>"
      ]
     },
     "metadata": {
      "needs_background": "light"
     },
     "output_type": "display_data"
    }
   ],
   "source": [
    "plt.subplots(figsize = (25,10))\n",
    "sns.violinplot(x = 'is_duplicate', y = 'common_word_ratio', data = df_clean2)\n",
    "plt.title('Distribution of common word ratio', fontsize = 12)\n",
    "plt.ylabel('common word ratio in the question', fontsize=12)\n",
    "plt.show()"
   ]
  },
  {
   "cell_type": "markdown",
   "metadata": {},
   "source": [
    "# FEATURE ENGINEERING"
   ]
  },
  {
   "cell_type": "code",
   "execution_count": null,
   "metadata": {},
   "outputs": [],
   "source": []
  },
  {
   "cell_type": "code",
   "execution_count": 35,
   "metadata": {},
   "outputs": [],
   "source": [
    "\n",
    "\n",
    "df = df_clean2.sample(frac=0.4).reset_index(drop=True)"
   ]
  },
  {
   "cell_type": "code",
   "execution_count": 38,
   "metadata": {},
   "outputs": [],
   "source": [
    "def removeStopWord(word):\n",
    "  token=word.split(\" \")   ## coverting string to token (list of word) \\\\ like [\"this\",\"is\",\"token\"]\n",
    "  removestop=[snow.stem(x) for x in token if x not in stop_words]   ##removing stopwords and also doing Stemming\n",
    "  removed=\" \".join(removestop)  ##joing back the list into sentence\n",
    "  return removed"
   ]
  },
  {
   "cell_type": "code",
   "execution_count": 39,
   "metadata": {},
   "outputs": [],
   "source": [
    "df['cleanQ1']=df['question1'].apply(removeStopWord)\n",
    "df['cleanQ2']=df['question2'].apply(removeStopWord)"
   ]
  },
  {
   "cell_type": "code",
   "execution_count": 40,
   "metadata": {},
   "outputs": [
    {
     "data": {
      "text/html": [
       "<div>\n",
       "<style scoped>\n",
       "    .dataframe tbody tr th:only-of-type {\n",
       "        vertical-align: middle;\n",
       "    }\n",
       "\n",
       "    .dataframe tbody tr th {\n",
       "        vertical-align: top;\n",
       "    }\n",
       "\n",
       "    .dataframe thead th {\n",
       "        text-align: right;\n",
       "    }\n",
       "</style>\n",
       "<table border=\"1\" class=\"dataframe\">\n",
       "  <thead>\n",
       "    <tr style=\"text-align: right;\">\n",
       "      <th></th>\n",
       "      <th>id</th>\n",
       "      <th>qid1</th>\n",
       "      <th>qid2</th>\n",
       "      <th>question1</th>\n",
       "      <th>question2</th>\n",
       "      <th>is_duplicate</th>\n",
       "      <th>unigram_ques1</th>\n",
       "      <th>unigram_ques2</th>\n",
       "      <th>q1len</th>\n",
       "      <th>q2len</th>\n",
       "      <th>q1_n_words</th>\n",
       "      <th>q2_n_words</th>\n",
       "      <th>word_share</th>\n",
       "      <th>common_word_ratio</th>\n",
       "      <th>cleanQ1</th>\n",
       "      <th>cleanQ2</th>\n",
       "    </tr>\n",
       "  </thead>\n",
       "  <tbody>\n",
       "    <tr>\n",
       "      <th>0</th>\n",
       "      <td>170914</td>\n",
       "      <td>264196</td>\n",
       "      <td>74871</td>\n",
       "      <td>what are the most effective ways to increase twitter followers and traffic for free</td>\n",
       "      <td>what are some amazing twitter hacks strategies tools etc to receive more followers and more engagement with tweets favorites retweets</td>\n",
       "      <td>0</td>\n",
       "      <td>[increase, traffic, ways, followers, free, effective, twitter]</td>\n",
       "      <td>[engagement, favorites, tools, followers, etc, hacks, receive, retweets, twitter, strategies, amazing, tweets]</td>\n",
       "      <td>84</td>\n",
       "      <td>134</td>\n",
       "      <td>15</td>\n",
       "      <td>21</td>\n",
       "      <td>2</td>\n",
       "      <td>0.117647</td>\n",
       "      <td>effect way increas twitter follow traffic free</td>\n",
       "      <td>amaz twitter hack strategi tool etc receiv follow engag tweet favorit retweet</td>\n",
       "    </tr>\n",
       "    <tr>\n",
       "      <th>1</th>\n",
       "      <td>281705</td>\n",
       "      <td>57258</td>\n",
       "      <td>401507</td>\n",
       "      <td>why should cigarettes not be banned</td>\n",
       "      <td>should cigarettes be banned</td>\n",
       "      <td>0</td>\n",
       "      <td>[banned, cigarettes]</td>\n",
       "      <td>[banned, cigarettes]</td>\n",
       "      <td>36</td>\n",
       "      <td>28</td>\n",
       "      <td>7</td>\n",
       "      <td>5</td>\n",
       "      <td>2</td>\n",
       "      <td>1.000000</td>\n",
       "      <td>cigarett ban</td>\n",
       "      <td>cigarett ban</td>\n",
       "    </tr>\n",
       "    <tr>\n",
       "      <th>2</th>\n",
       "      <td>313301</td>\n",
       "      <td>437861</td>\n",
       "      <td>437862</td>\n",
       "      <td>what are some tips on making it through the job interview process at nrg yield</td>\n",
       "      <td>what are some tips on making it through the job interview process at nrg energy</td>\n",
       "      <td>0</td>\n",
       "      <td>[interview, job, process, making, tips, yield, nrg]</td>\n",
       "      <td>[interview, job, process, making, tips, nrg, energy]</td>\n",
       "      <td>79</td>\n",
       "      <td>80</td>\n",
       "      <td>16</td>\n",
       "      <td>16</td>\n",
       "      <td>6</td>\n",
       "      <td>0.750000</td>\n",
       "      <td>tip make job interview process nrg yield</td>\n",
       "      <td>tip make job interview process nrg energi</td>\n",
       "    </tr>\n",
       "    <tr>\n",
       "      <th>3</th>\n",
       "      <td>339040</td>\n",
       "      <td>466631</td>\n",
       "      <td>466632</td>\n",
       "      <td>how do i memorise facts and figures of static gk for mba entrance exams</td>\n",
       "      <td>how do i memorise facts and figures of static as well as dynamic gk for mba entrance exams</td>\n",
       "      <td>1</td>\n",
       "      <td>[entrance, memorise, mba, gk, facts, exams, static, figures]</td>\n",
       "      <td>[entrance, well, memorise, mba, dynamic, gk, facts, exams, static, figures]</td>\n",
       "      <td>72</td>\n",
       "      <td>91</td>\n",
       "      <td>15</td>\n",
       "      <td>19</td>\n",
       "      <td>8</td>\n",
       "      <td>0.800000</td>\n",
       "      <td>memoris fact figur static gk mba entranc exam</td>\n",
       "      <td>memoris fact figur static well dynam gk mba entranc exam</td>\n",
       "    </tr>\n",
       "    <tr>\n",
       "      <th>4</th>\n",
       "      <td>302999</td>\n",
       "      <td>426082</td>\n",
       "      <td>426083</td>\n",
       "      <td>what is skagen</td>\n",
       "      <td>what are skagen watches like</td>\n",
       "      <td>0</td>\n",
       "      <td>[skagen]</td>\n",
       "      <td>[like, skagen, watches]</td>\n",
       "      <td>15</td>\n",
       "      <td>29</td>\n",
       "      <td>4</td>\n",
       "      <td>6</td>\n",
       "      <td>1</td>\n",
       "      <td>0.333333</td>\n",
       "      <td>skagen</td>\n",
       "      <td>skagen watch like</td>\n",
       "    </tr>\n",
       "  </tbody>\n",
       "</table>\n",
       "</div>"
      ],
      "text/plain": [
       "       id    qid1    qid2  \\\n",
       "0  170914  264196   74871   \n",
       "1  281705   57258  401507   \n",
       "2  313301  437861  437862   \n",
       "3  339040  466631  466632   \n",
       "4  302999  426082  426083   \n",
       "\n",
       "                                                                              question1  \\\n",
       "0  what are the most effective ways to increase twitter followers and traffic for free    \n",
       "1                                                  why should cigarettes not be banned    \n",
       "2       what are some tips on making it through the job interview process at nrg yield    \n",
       "3              how do i memorise facts and figures of static gk for mba entrance exams    \n",
       "4                                                                       what is skagen    \n",
       "\n",
       "                                                                                                                                question2  \\\n",
       "0  what are some amazing twitter hacks strategies tools etc to receive more followers and more engagement with tweets favorites retweets    \n",
       "1                                                                                                            should cigarettes be banned    \n",
       "2                                                        what are some tips on making it through the job interview process at nrg energy    \n",
       "3                                             how do i memorise facts and figures of static as well as dynamic gk for mba entrance exams    \n",
       "4                                                                                                           what are skagen watches like    \n",
       "\n",
       "   is_duplicate  \\\n",
       "0             0   \n",
       "1             0   \n",
       "2             0   \n",
       "3             1   \n",
       "4             0   \n",
       "\n",
       "                                                    unigram_ques1  \\\n",
       "0  [increase, traffic, ways, followers, free, effective, twitter]   \n",
       "1                                            [banned, cigarettes]   \n",
       "2             [interview, job, process, making, tips, yield, nrg]   \n",
       "3    [entrance, memorise, mba, gk, facts, exams, static, figures]   \n",
       "4                                                        [skagen]   \n",
       "\n",
       "                                                                                                    unigram_ques2  \\\n",
       "0  [engagement, favorites, tools, followers, etc, hacks, receive, retweets, twitter, strategies, amazing, tweets]   \n",
       "1                                                                                            [banned, cigarettes]   \n",
       "2                                                            [interview, job, process, making, tips, nrg, energy]   \n",
       "3                                     [entrance, well, memorise, mba, dynamic, gk, facts, exams, static, figures]   \n",
       "4                                                                                         [like, skagen, watches]   \n",
       "\n",
       "   q1len  q2len  q1_n_words  q2_n_words  word_share  common_word_ratio  \\\n",
       "0     84    134          15          21           2           0.117647   \n",
       "1     36     28           7           5           2           1.000000   \n",
       "2     79     80          16          16           6           0.750000   \n",
       "3     72     91          15          19           8           0.800000   \n",
       "4     15     29           4           6           1           0.333333   \n",
       "\n",
       "                                           cleanQ1  \\\n",
       "0  effect way increas twitter follow traffic free    \n",
       "1                                    cigarett ban    \n",
       "2        tip make job interview process nrg yield    \n",
       "3   memoris fact figur static gk mba entranc exam    \n",
       "4                                          skagen    \n",
       "\n",
       "                                                                          cleanQ2  \n",
       "0  amaz twitter hack strategi tool etc receiv follow engag tweet favorit retweet   \n",
       "1                                                                   cigarett ban   \n",
       "2                                      tip make job interview process nrg energi   \n",
       "3                       memoris fact figur static well dynam gk mba entranc exam   \n",
       "4                                                              skagen watch like   "
      ]
     },
     "execution_count": 40,
     "metadata": {},
     "output_type": "execute_result"
    }
   ],
   "source": [
    "df.head()"
   ]
  },
  {
   "cell_type": "code",
   "execution_count": 43,
   "metadata": {},
   "outputs": [],
   "source": [
    "df['fuzz_ratio'] = df.apply(lambda x : fuzz.ratio(x['cleanQ1'],x['cleanQ2']), axis=1)\n",
    "df['Partial_Ratio']=df.apply(lambda x: fuzz.partial_ratio(x['cleanQ1'],x['cleanQ2']) ,axis=1)\n",
    "df['Token_Sort_Ratio']=df.apply(lambda x: fuzz.token_sort_ratio(x['cleanQ1'],x['cleanQ2']) ,axis=1)\n",
    "\n",
    "df['Token_Set_Ratio']=df.apply(lambda x: fuzz.token_set_ratio(x['cleanQ1'],x['cleanQ2']) ,axis=1)"
   ]
  },
  {
   "cell_type": "code",
   "execution_count": 44,
   "metadata": {},
   "outputs": [
    {
     "data": {
      "text/plain": [
       "Text(0.5, 1.0, 'Distribution of Fuzz Ratio')"
      ]
     },
     "execution_count": 44,
     "metadata": {},
     "output_type": "execute_result"
    },
    {
     "data": {
      "image/png": "[encoded data removed]",
      "text/plain": [
       "<Figure size 1080x720 with 1 Axes>"
      ]
     },
     "metadata": {
      "needs_background": "light"
     },
     "output_type": "display_data"
    }
   ],
   "source": [
    "plt.subplots(figsize = (15,10))\n",
    "sns.distplot(df[df.is_duplicate == 0].fuzz_ratio, kde=True, hist=False, label = 'Not Duplicate')\n",
    "sns.distplot(df[df.is_duplicate ==1].fuzz_ratio, kde = True, hist=False, label = 'Duplicate')\n",
    "plt.title('Distribution of Fuzz Ratio', size = 20)"
   ]
  },
  {
   "cell_type": "code",
   "execution_count": 45,
   "metadata": {},
   "outputs": [
    {
     "data": {
      "text/plain": [
       "Text(0.5, 1.0, 'Distribution of Partial Fuzz Ratio')"
      ]
     },
     "execution_count": 45,
     "metadata": {},
     "output_type": "execute_result"
    },
    {
     "data": {
      "image/png": "[encoded data removed]",
      "text/plain": [
       "<Figure size 1080x720 with 1 Axes>"
      ]
     },
     "metadata": {
      "needs_background": "light"
     },
     "output_type": "display_data"
    }
   ],
   "source": [
    "plt.subplots(figsize = (15,10))\n",
    "sns.distplot(df[df.is_duplicate == 0].Partial_Ratio, kde=True, hist=False, label = 'Not Duplicate')\n",
    "sns.distplot(df[df.is_duplicate ==1].Partial_Ratio, kde = True, hist=False, label = 'Duplicate')\n",
    "plt.title('Distribution of Partial Fuzz Ratio', size = 20)"
   ]
  },
  {
   "cell_type": "code",
   "execution_count": 46,
   "metadata": {},
   "outputs": [
    {
     "data": {
      "text/plain": [
       "Text(0.5, 1.0, 'Distribution of Word Share')"
      ]
     },
     "execution_count": 46,
     "metadata": {},
     "output_type": "execute_result"
    },
    {
     "data": {
      "image/png": "[encoded data removed]",
      "text/plain": [
       "<Figure size 1080x720 with 1 Axes>"
      ]
     },
     "metadata": {
      "needs_background": "light"
     },
     "output_type": "display_data"
    }
   ],
   "source": [
    "plt.subplots(figsize = (15,10))\n",
    "sns.distplot(df[df.is_duplicate == 0].common_word_ratio, kde=False, hist=True, label = 'Not Duplicate')\n",
    "sns.distplot(df[df.is_duplicate ==1].common_word_ratio, kde = False, hist=True, label = 'Duplicate')\n",
    "plt.title('Distribution of Word Share', size = 20)"
   ]
  },
  {
   "cell_type": "code",
   "execution_count": 47,
   "metadata": {},
   "outputs": [
    {
     "data": {
      "text/plain": [
       "Index(['id', 'qid1', 'qid2', 'question1', 'question2', 'is_duplicate',\n",
       "       'unigram_ques1', 'unigram_ques2', 'q1len', 'q2len', 'q1_n_words',\n",
       "       'q2_n_words', 'word_share', 'common_word_ratio', 'cleanQ1', 'cleanQ2',\n",
       "       'fuzz_ratio', 'Partial_Ratio', 'Token_Sort_Ratio', 'Token_Set_Ratio'],\n",
       "      dtype='object')"
      ]
     },
     "execution_count": 47,
     "metadata": {},
     "output_type": "execute_result"
    }
   ],
   "source": [
    "df.columns"
   ]
  },
  {
   "cell_type": "code",
   "execution_count": 48,
   "metadata": {},
   "outputs": [],
   "source": [
    "df_data = df[['id', 'is_duplicate', 'common_word_ratio', 'fuzz_ratio', 'Partial_Ratio', 'Token_Sort_Ratio', \n",
    "         'Token_Set_Ratio', 'cleanQ1', 'cleanQ2']]"
   ]
  },
  {
   "cell_type": "code",
   "execution_count": 49,
   "metadata": {},
   "outputs": [
    {
     "data": {
      "text/html": [
       "<div>\n",
       "<style scoped>\n",
       "    .dataframe tbody tr th:only-of-type {\n",
       "        vertical-align: middle;\n",
       "    }\n",
       "\n",
       "    .dataframe tbody tr th {\n",
       "        vertical-align: top;\n",
       "    }\n",
       "\n",
       "    .dataframe thead th {\n",
       "        text-align: right;\n",
       "    }\n",
       "</style>\n",
       "<table border=\"1\" class=\"dataframe\">\n",
       "  <thead>\n",
       "    <tr style=\"text-align: right;\">\n",
       "      <th></th>\n",
       "      <th>id</th>\n",
       "      <th>is_duplicate</th>\n",
       "      <th>common_word_ratio</th>\n",
       "      <th>fuzz_ratio</th>\n",
       "      <th>Partial_Ratio</th>\n",
       "      <th>Token_Sort_Ratio</th>\n",
       "      <th>Token_Set_Ratio</th>\n",
       "      <th>cleanQ1</th>\n",
       "      <th>cleanQ2</th>\n",
       "    </tr>\n",
       "  </thead>\n",
       "  <tbody>\n",
       "    <tr>\n",
       "      <th>0</th>\n",
       "      <td>170914</td>\n",
       "      <td>0</td>\n",
       "      <td>0.117647</td>\n",
       "      <td>40</td>\n",
       "      <td>40</td>\n",
       "      <td>49</td>\n",
       "      <td>47</td>\n",
       "      <td>effect way increas twitter follow traffic free</td>\n",
       "      <td>amaz twitter hack strategi tool etc receiv follow engag tweet favorit retweet</td>\n",
       "    </tr>\n",
       "    <tr>\n",
       "      <th>1</th>\n",
       "      <td>281705</td>\n",
       "      <td>0</td>\n",
       "      <td>1.000000</td>\n",
       "      <td>100</td>\n",
       "      <td>100</td>\n",
       "      <td>100</td>\n",
       "      <td>100</td>\n",
       "      <td>cigarett ban</td>\n",
       "      <td>cigarett ban</td>\n",
       "    </tr>\n",
       "    <tr>\n",
       "      <th>2</th>\n",
       "      <td>313301</td>\n",
       "      <td>0</td>\n",
       "      <td>0.750000</td>\n",
       "      <td>89</td>\n",
       "      <td>88</td>\n",
       "      <td>84</td>\n",
       "      <td>92</td>\n",
       "      <td>tip make job interview process nrg yield</td>\n",
       "      <td>tip make job interview process nrg energi</td>\n",
       "    </tr>\n",
       "    <tr>\n",
       "      <th>3</th>\n",
       "      <td>339040</td>\n",
       "      <td>1</td>\n",
       "      <td>0.800000</td>\n",
       "      <td>89</td>\n",
       "      <td>76</td>\n",
       "      <td>89</td>\n",
       "      <td>100</td>\n",
       "      <td>memoris fact figur static gk mba entranc exam</td>\n",
       "      <td>memoris fact figur static well dynam gk mba entranc exam</td>\n",
       "    </tr>\n",
       "    <tr>\n",
       "      <th>4</th>\n",
       "      <td>302999</td>\n",
       "      <td>0</td>\n",
       "      <td>0.333333</td>\n",
       "      <td>56</td>\n",
       "      <td>100</td>\n",
       "      <td>52</td>\n",
       "      <td>100</td>\n",
       "      <td>skagen</td>\n",
       "      <td>skagen watch like</td>\n",
       "    </tr>\n",
       "  </tbody>\n",
       "</table>\n",
       "</div>"
      ],
      "text/plain": [
       "       id  is_duplicate  common_word_ratio  fuzz_ratio  Partial_Ratio  \\\n",
       "0  170914             0           0.117647          40             40   \n",
       "1  281705             0           1.000000         100            100   \n",
       "2  313301             0           0.750000          89             88   \n",
       "3  339040             1           0.800000          89             76   \n",
       "4  302999             0           0.333333          56            100   \n",
       "\n",
       "   Token_Sort_Ratio  Token_Set_Ratio  \\\n",
       "0                49               47   \n",
       "1               100              100   \n",
       "2                84               92   \n",
       "3                89              100   \n",
       "4                52              100   \n",
       "\n",
       "                                           cleanQ1  \\\n",
       "0  effect way increas twitter follow traffic free    \n",
       "1                                    cigarett ban    \n",
       "2        tip make job interview process nrg yield    \n",
       "3   memoris fact figur static gk mba entranc exam    \n",
       "4                                          skagen    \n",
       "\n",
       "                                                                          cleanQ2  \n",
       "0  amaz twitter hack strategi tool etc receiv follow engag tweet favorit retweet   \n",
       "1                                                                   cigarett ban   \n",
       "2                                      tip make job interview process nrg energi   \n",
       "3                       memoris fact figur static well dynam gk mba entranc exam   \n",
       "4                                                              skagen watch like   "
      ]
     },
     "execution_count": 49,
     "metadata": {},
     "output_type": "execute_result"
    }
   ],
   "source": [
    "df_data.head()"
   ]
  },
  {
   "cell_type": "code",
   "execution_count": 50,
   "metadata": {},
   "outputs": [
    {
     "name": "stderr",
     "output_type": "stream",
     "text": [
      "<ipython-input-50-57abb631de09>:2: SettingWithCopyWarning: \n",
      "A value is trying to be set on a copy of a slice from a DataFrame.\n",
      "Try using .loc[row_indexer,col_indexer] = value instead\n",
      "\n",
      "See the caveats in the documentation: https://pandas.pydata.org/pandas-docs/stable/user_guide/indexing.html#returning-a-view-versus-a-copy\n",
      "  df['cleanQ1'] = df['cleanQ1'].apply(lambda x: str(x))\n",
      "<ipython-input-50-57abb631de09>:3: SettingWithCopyWarning: \n",
      "A value is trying to be set on a copy of a slice from a DataFrame.\n",
      "Try using .loc[row_indexer,col_indexer] = value instead\n",
      "\n",
      "See the caveats in the documentation: https://pandas.pydata.org/pandas-docs/stable/user_guide/indexing.html#returning-a-view-versus-a-copy\n",
      "  df['cleanQ2'] = df['cleanQ2'].apply(lambda x: str(x))\n"
     ]
    }
   ],
   "source": [
    "df=df_data[['cleanQ1','cleanQ2','is_duplicate']]\n",
    "df['cleanQ1'] = df['cleanQ1'].apply(lambda x: str(x))\n",
    "df['cleanQ2'] = df['cleanQ2'].apply(lambda x: str(x))"
   ]
  },
  {
   "cell_type": "code",
   "execution_count": 54,
   "metadata": {},
   "outputs": [],
   "source": [
    "# merging questions of both Q1 and Q2 to a single list in which first 404287 index will be of question 1 and then rest of question 2\n",
    "questions = list(df['cleanQ1']) + list(df['cleanQ2'])  # len(questions): 808574  [404287 of q1 and 404287 of q2]\n",
    "\n",
    "tfidf = TfidfVectorizer() #  Convert a collection of raw documents to a matrix of TF-IDF features\n",
    "\n",
    "tfidf.fit_transform(questions)  # Converting out text to a matrix of TF-IDF features\n",
    "\n",
    "# mapping our feature_names with threre resptive tf-idf score  ( dict key:word and value:tf-idf score )\n",
    "word2tfidf = dict(zip(tfidf.get_feature_names(), tfidf.idf_))"
   ]
  },
  {
   "cell_type": "code",
   "execution_count": 55,
   "metadata": {},
   "outputs": [
    {
     "name": "stdout",
     "output_type": "stream",
     "text": [
      "zzzz 12.992771127125913\n",
      "zzzquil 12.076480395251759\n",
      "zz 12.992771127125913\n",
      "zyzz 12.992771127125913\n",
      "zyrtec 12.587306019017749\n",
      "zynga 11.48869373034964\n",
      "zyl 12.992771127125913\n",
      "zygot 12.29962394656597\n",
      "zycus 12.29962394656597\n",
      "zy 12.992771127125913\n"
     ]
    }
   ],
   "source": [
    "# Plotting Key Value Pair\n",
    "wrd=list(word2tfidf.keys())[::-1][:10]   # finding keys of dict and then reversing them to get last 10 keys\n",
    "for i in wrd:\n",
    "    print(i,word2tfidf[i])"
   ]
  },
  {
   "cell_type": "code",
   "execution_count": 58,
   "metadata": {},
   "outputs": [
    {
     "name": "stderr",
     "output_type": "stream",
     "text": [
      "100%|██████████| 161582/161582 [13:53<00:00, 193.82it/s]\n",
      "<ipython-input-58-a611cba2f2aa>:32: SettingWithCopyWarning: \n",
      "A value is trying to be set on a copy of a slice from a DataFrame.\n",
      "Try using .loc[row_indexer,col_indexer] = value instead\n",
      "\n",
      "See the caveats in the documentation: https://pandas.pydata.org/pandas-docs/stable/user_guide/indexing.html#returning-a-view-versus-a-copy\n",
      "  df['q1_feats_m'] = list(vecs1)\n"
     ]
    }
   ],
   "source": [
    "# en_vectors_web_lg, which includes over 1 million unique vectors.\n",
    "nlp = spacy.load('en_core_web_sm')\n",
    "\n",
    "vecs1 = []\n",
    "\n",
    "for qu1 in tqdm(list(df['cleanQ1'])):\n",
    "    \n",
    "    doc1 = nlp(qu1) #creating object of   GLOVE model  so that we can get vetor representation of our words\n",
    "    \n",
    "    # Creating a matrix of N x M where N is is number of word is given line and M i.e. 96 which is the vector representaion of 1st word\n",
    "    mean_vec1 = np.zeros([len(doc1), len(doc1[0].vector)])\n",
    "    \n",
    "    # Looping to all words in the given sentence \n",
    "    \n",
    "    for word1 in doc1:\n",
    "        \n",
    "       # word2vec ( Creating Vector Representation of every word ) which is 96\n",
    "    \n",
    "        vec1 = word1.vector\n",
    "        \n",
    "        # Using try and catch to prefent key error [ For the words that are not there in our word2tfidf dict like empty space ]\n",
    "        \n",
    "        try:\n",
    "            idf = word2tfidf[str(word1)]\n",
    "        except:\n",
    "            idf = 0\n",
    "        \n",
    "        # adding up all the words generated in the matrix (word2vec matrix * the word2tfidf Corresponding to that word)\n",
    "        mean_vec1 += vec1 * idf\n",
    "    mean_vec1 = mean_vec1.mean(axis=0)\n",
    "    vecs1.append(mean_vec1)  # Storing the vector representation of every sentence into an array\n",
    "df['q1_feats_m'] = list(vecs1)"
   ]
  },
  {
   "cell_type": "code",
   "execution_count": 59,
   "metadata": {},
   "outputs": [
    {
     "name": "stderr",
     "output_type": "stream",
     "text": [
      "100%|██████████| 161582/161582 [13:56<00:00, 193.23it/s]\n",
      "<ipython-input-59-b74d79ec72aa>:32: SettingWithCopyWarning: \n",
      "A value is trying to be set on a copy of a slice from a DataFrame.\n",
      "Try using .loc[row_indexer,col_indexer] = value instead\n",
      "\n",
      "See the caveats in the documentation: https://pandas.pydata.org/pandas-docs/stable/user_guide/indexing.html#returning-a-view-versus-a-copy\n",
      "  df['q2_feats_m'] = list(vecs2)\n"
     ]
    }
   ],
   "source": [
    "# en_vectors_web_lg, which includes over 1 million unique vectors.\n",
    "nlp = spacy.load('en_core_web_sm')\n",
    "\n",
    "vecs2 = []\n",
    "\n",
    "for qu2 in tqdm(list(df['cleanQ2'])):\n",
    "    \n",
    "    doc2 = nlp(qu2) #creating object of   GLOVE model  so that we can get vetor representation of our words\n",
    "    \n",
    "    # Creating a matrix of N x M where N is is number of word is given line and M i.e. 96 which is the vector representaion of 1st word\n",
    "    mean_vec2 = np.zeros([len(doc2), len(doc2[0].vector)])\n",
    "    \n",
    "    # Looping to all words in the given sentence \n",
    "    \n",
    "    for word2 in doc2:\n",
    "        \n",
    "       # word2vec ( Creating Vector Representation of every word ) which is 96\n",
    "    \n",
    "        vec2 = word2.vector\n",
    "        \n",
    "        # Using try and catch to prefent key error [ For the words that are not there in our word2tfidf dict like empty space ]\n",
    "        \n",
    "        try:\n",
    "            idf = word2tfidf[str(word2)]\n",
    "        except:\n",
    "            idf = 0\n",
    "        \n",
    "        # adding up all the words generated in the matrix (word2vec matrix * the word2tfidf Corresponding to that word)\n",
    "        mean_vec2 += vec2 * idf\n",
    "    mean_vec2 = mean_vec2.mean(axis=0)\n",
    "    vecs2.append(mean_vec2)  # Storing the vector representation of every sentence into an array\n",
    "df['q2_feats_m'] = list(vecs2)"
   ]
  },
  {
   "cell_type": "code",
   "execution_count": 60,
   "metadata": {},
   "outputs": [
    {
     "data": {
      "text/html": [
       "<div>\n",
       "<style scoped>\n",
       "    .dataframe tbody tr th:only-of-type {\n",
       "        vertical-align: middle;\n",
       "    }\n",
       "\n",
       "    .dataframe tbody tr th {\n",
       "        vertical-align: top;\n",
       "    }\n",
       "\n",
       "    .dataframe thead th {\n",
       "        text-align: right;\n",
       "    }\n",
       "</style>\n",
       "<table border=\"1\" class=\"dataframe\">\n",
       "  <thead>\n",
       "    <tr style=\"text-align: right;\">\n",
       "      <th></th>\n",
       "      <th>cleanQ1</th>\n",
       "      <th>cleanQ2</th>\n",
       "      <th>is_duplicate</th>\n",
       "      <th>q1_feats_m</th>\n",
       "      <th>q2_feats_m</th>\n",
       "    </tr>\n",
       "  </thead>\n",
       "  <tbody>\n",
       "    <tr>\n",
       "      <th>0</th>\n",
       "      <td>effect way increas twitter follow traffic free</td>\n",
       "      <td>amaz twitter hack strategi tool etc receiv follow engag tweet favorit retweet</td>\n",
       "      <td>0</td>\n",
       "      <td>[7.369928359985352, 32.91226005554199, -70.42131787911057, -12.470786228775978, 0.9737744331359863, 15.10919052362442, -29.80086273699999, 27.52245783805847, 39.20406645536423, 6.575355052947998, ...</td>\n",
       "      <td>[44.89062210917473, 126.37207913398743, -31.22503662109375, -38.551591992378235, -11.811100780963898, 37.05484253168106, -112.99180662631989, 42.45248135924339, 115.07635933160782, -35.08738952875...</td>\n",
       "    </tr>\n",
       "    <tr>\n",
       "      <th>1</th>\n",
       "      <td>cigarett ban</td>\n",
       "      <td>cigarett ban</td>\n",
       "      <td>0</td>\n",
       "      <td>[17.004796981811523, 11.825027704238892, -17.553329944610596, -2.715330123901367, 14.152068138122559, 10.409548282623291, 3.0029829144477844, 20.29914879798889, 38.39643669128418, 13.3888106346130...</td>\n",
       "      <td>[17.004796981811523, 11.825027704238892, -17.553329944610596, -2.715330123901367, 14.152068138122559, 10.409548282623291, 3.0029829144477844, 20.29914879798889, 38.39643669128418, 13.3888106346130...</td>\n",
       "    </tr>\n",
       "    <tr>\n",
       "      <th>2</th>\n",
       "      <td>tip make job interview process nrg yield</td>\n",
       "      <td>tip make job interview process nrg energi</td>\n",
       "      <td>0</td>\n",
       "      <td>[-32.38714408874512, 142.81381177902222, -90.93518075346947, -8.751358211040497, 6.59789115190506, 1.3001269549131393, 55.508787870407104, 9.590306758880615, 44.69219100475311, -22.7087412327528, ...</td>\n",
       "      <td>[-19.556401044130325, 60.68103504180908, -100.48555009067059, -12.647637367248535, -1.9550354778766632, 34.788243636488914, 72.70414954423904, -2.1038312911987305, 38.66722655296326, -21.605473518...</td>\n",
       "    </tr>\n",
       "    <tr>\n",
       "      <th>3</th>\n",
       "      <td>memoris fact figur static gk mba entranc exam</td>\n",
       "      <td>memoris fact figur static well dynam gk mba entranc exam</td>\n",
       "      <td>1</td>\n",
       "      <td>[-7.2447749376297, 74.37426030635834, -70.28525936603546, -64.02057886123657, -5.291972875595093, -6.682897448539734, 19.18460500240326, -1.0776917934417725, 92.47776556015015, -4.675854921340942,...</td>\n",
       "      <td>[22.18988585472107, 87.81806182861328, -50.32020300626755, -65.5791540145874, 22.753594160079956, 19.00514256954193, 42.477825582027435, -21.532922387123108, 102.36875438690186, 29.058832436800003...</td>\n",
       "    </tr>\n",
       "    <tr>\n",
       "      <th>4</th>\n",
       "      <td>skagen</td>\n",
       "      <td>skagen watch like</td>\n",
       "      <td>0</td>\n",
       "      <td>[10.931180000305176, 32.000667572021484, -57.63768768310547, 2.5063488483428955, 0.1104378029704094, 21.70454978942871, 10.485525131225586, -0.24338851869106293, 24.47365379333496, 19.556962966918...</td>\n",
       "      <td>[-12.41604945063591, 36.68008315563202, -64.60877871513367, 32.315035343170166, -6.370554864406586, 15.026759535074234, 17.995827674865723, 17.981563568115234, 25.790966510772705, 18.4729986786842...</td>\n",
       "    </tr>\n",
       "  </tbody>\n",
       "</table>\n",
       "</div>"
      ],
      "text/plain": [
       "                                           cleanQ1  \\\n",
       "0  effect way increas twitter follow traffic free    \n",
       "1                                    cigarett ban    \n",
       "2        tip make job interview process nrg yield    \n",
       "3   memoris fact figur static gk mba entranc exam    \n",
       "4                                          skagen    \n",
       "\n",
       "                                                                          cleanQ2  \\\n",
       "0  amaz twitter hack strategi tool etc receiv follow engag tweet favorit retweet    \n",
       "1                                                                   cigarett ban    \n",
       "2                                      tip make job interview process nrg energi    \n",
       "3                       memoris fact figur static well dynam gk mba entranc exam    \n",
       "4                                                              skagen watch like    \n",
       "\n",
       "   is_duplicate  \\\n",
       "0             0   \n",
       "1             0   \n",
       "2             0   \n",
       "3             1   \n",
       "4             0   \n",
       "\n",
       "                                                                                                                                                                                                q1_feats_m  \\\n",
       "0  [7.369928359985352, 32.91226005554199, -70.42131787911057, -12.470786228775978, 0.9737744331359863, 15.10919052362442, -29.80086273699999, 27.52245783805847, 39.20406645536423, 6.575355052947998, ...   \n",
       "1  [17.004796981811523, 11.825027704238892, -17.553329944610596, -2.715330123901367, 14.152068138122559, 10.409548282623291, 3.0029829144477844, 20.29914879798889, 38.39643669128418, 13.3888106346130...   \n",
       "2  [-32.38714408874512, 142.81381177902222, -90.93518075346947, -8.751358211040497, 6.59789115190506, 1.3001269549131393, 55.508787870407104, 9.590306758880615, 44.69219100475311, -22.7087412327528, ...   \n",
       "3  [-7.2447749376297, 74.37426030635834, -70.28525936603546, -64.02057886123657, -5.291972875595093, -6.682897448539734, 19.18460500240326, -1.0776917934417725, 92.47776556015015, -4.675854921340942,...   \n",
       "4  [10.931180000305176, 32.000667572021484, -57.63768768310547, 2.5063488483428955, 0.1104378029704094, 21.70454978942871, 10.485525131225586, -0.24338851869106293, 24.47365379333496, 19.556962966918...   \n",
       "\n",
       "                                                                                                                                                                                                q2_feats_m  \n",
       "0  [44.89062210917473, 126.37207913398743, -31.22503662109375, -38.551591992378235, -11.811100780963898, 37.05484253168106, -112.99180662631989, 42.45248135924339, 115.07635933160782, -35.08738952875...  \n",
       "1  [17.004796981811523, 11.825027704238892, -17.553329944610596, -2.715330123901367, 14.152068138122559, 10.409548282623291, 3.0029829144477844, 20.29914879798889, 38.39643669128418, 13.3888106346130...  \n",
       "2  [-19.556401044130325, 60.68103504180908, -100.48555009067059, -12.647637367248535, -1.9550354778766632, 34.788243636488914, 72.70414954423904, -2.1038312911987305, 38.66722655296326, -21.605473518...  \n",
       "3  [22.18988585472107, 87.81806182861328, -50.32020300626755, -65.5791540145874, 22.753594160079956, 19.00514256954193, 42.477825582027435, -21.532922387123108, 102.36875438690186, 29.058832436800003...  \n",
       "4  [-12.41604945063591, 36.68008315563202, -64.60877871513367, 32.315035343170166, -6.370554864406586, 15.026759535074234, 17.995827674865723, 17.981563568115234, 25.790966510772705, 18.4729986786842...  "
      ]
     },
     "execution_count": 60,
     "metadata": {},
     "output_type": "execute_result"
    }
   ],
   "source": [
    "df.head()"
   ]
  },
  {
   "cell_type": "code",
   "execution_count": 61,
   "metadata": {},
   "outputs": [],
   "source": [
    "df1 = df_data.drop(['cleanQ1', 'cleanQ2'], axis=1)"
   ]
  },
  {
   "cell_type": "code",
   "execution_count": 62,
   "metadata": {},
   "outputs": [],
   "source": [
    "df3 = df.drop(['cleanQ1', 'cleanQ2', 'is_duplicate'],axis=1)"
   ]
  },
  {
   "cell_type": "code",
   "execution_count": 63,
   "metadata": {},
   "outputs": [],
   "source": [
    "df3_q1 = pd.DataFrame(df3.q1_feats_m.values.tolist(), index= df3.index)\n",
    "df3_q2 = pd.DataFrame(df3.q2_feats_m.values.tolist(), index= df3.index)"
   ]
  },
  {
   "cell_type": "code",
   "execution_count": 64,
   "metadata": {},
   "outputs": [],
   "source": [
    "df3_q1['id']=df1['id']\n",
    "df3_q2['id']=df1['id']\n",
    "#df1  = df1.merge(df2, on='id',how='left')\n",
    "df2  = df3_q1.merge(df3_q2, on='id',how='left')\n",
    "result  = df1.merge(df2, on='id',how='left')\n"
   ]
  },
  {
   "cell_type": "code",
   "execution_count": null,
   "metadata": {},
   "outputs": [],
   "source": []
  }
 ],
 "metadata": {
  "kernelspec": {
   "display_name": "Python 3",
   "language": "python",
   "name": "python3"
  },
  "language_info": {
   "codemirror_mode": {
    "name": "ipython",
    "version": 3
   },
   "file_extension": ".py",
   "mimetype": "text/x-python",
   "name": "python",
   "nbconvert_exporter": "python",
   "pygments_lexer": "ipython3",
   "version": "3.8.3"
  }
 },
 "nbformat": 4,
 "nbformat_minor": 4
}
